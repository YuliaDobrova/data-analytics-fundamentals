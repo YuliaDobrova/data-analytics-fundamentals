{
 "cells": [
  {
   "cell_type": "markdown",
   "metadata": {},
   "source": [
    "### Exercise: Employee Performance Analysis\n",
    "\n",
    "**Scenario:**\n",
    "\n",
    "You work as a human resources analyst for a company that conducts performance evaluations across several departments, including Sales, Marketing, and Operations. Each evaluation entry includes an employee ID, the department, and salary. Your task is to analyze these evaluations to identify areas of excellence and areas needing improvement.\n",
    "\n",
    "**Using this SQL script: https://drive.google.com/file/d/1AwO3Dm7vf72x4ZDZJaEV0TEbiOrxR2YS/view?usp=sharing**\n",
    "\n",
    "**Objective:**\n",
    "\n",
    "- Clean up the data's duplicates.\n",
    "- Remove rows with blank fields.\n",
    "- Calculate the average salary for each department.\n",
    "- Identify the department with the highest and lowest salary.\n",
    "- Suggest actionable insights based on the analysis."
   ]
  }
 ],
 "metadata": {
  "kernelspec": {
   "display_name": "venv",
   "language": "python",
   "name": "python3"
  },
  "language_info": {
   "codemirror_mode": {
    "name": "ipython",
    "version": 3
   },
   "file_extension": ".py",
   "mimetype": "text/x-python",
   "name": "python",
   "nbconvert_exporter": "python",
   "pygments_lexer": "ipython3",
   "version": "3.12.0"
  }
 },
 "nbformat": 4,
 "nbformat_minor": 2
}
