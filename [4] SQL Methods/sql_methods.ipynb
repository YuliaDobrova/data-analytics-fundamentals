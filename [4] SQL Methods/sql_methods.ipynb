{
 "cells": [
  {
   "cell_type": "code",
   "execution_count": 1,
   "metadata": {},
   "outputs": [],
   "source": [
    "# Enable SQL Extention\n",
    "%load_ext sql"
   ]
  },
  {
   "cell_type": "code",
   "execution_count": 2,
   "metadata": {},
   "outputs": [],
   "source": [
    "# Create sql-methods database\n",
    "%sql sqlite:///sql-methods.db"
   ]
  },
  {
   "cell_type": "code",
   "execution_count": 3,
   "metadata": {},
   "outputs": [
    {
     "name": "stdout",
     "output_type": "stream",
     "text": [
      " * sqlite:///sql-methods.db\n",
      "Done.\n"
     ]
    },
    {
     "data": {
      "text/plain": [
       "[]"
      ]
     },
     "execution_count": 3,
     "metadata": {},
     "output_type": "execute_result"
    }
   ],
   "source": [
    "%%sql\n",
    "CREATE TABLE IF NOT EXISTS employees (\n",
    "    employee_id INTEGER PRIMARY KEY AUTOINCREMENT,\n",
    "    first_name VARCHAR(50) NOT NULL,\n",
    "    last_name VARCHAR(50) NOT NULL,\n",
    "    department VARCHAR(50),\n",
    "    salary DECIMAL(10, 2) NOT NULL\n",
    ");"
   ]
  },
  {
   "cell_type": "markdown",
   "metadata": {},
   "source": []
  },
  {
   "cell_type": "code",
   "execution_count": 4,
   "metadata": {},
   "outputs": [
    {
     "name": "stdout",
     "output_type": "stream",
     "text": [
      " * sqlite:///sql-methods.db\n",
      "Done.\n"
     ]
    },
    {
     "data": {
      "text/html": [
       "<table>\n",
       "    <thead>\n",
       "        <tr>\n",
       "            <th>name</th>\n",
       "        </tr>\n",
       "    </thead>\n",
       "    <tbody>\n",
       "        <tr>\n",
       "            <td>employees</td>\n",
       "        </tr>\n",
       "        <tr>\n",
       "            <td>sqlite_sequence</td>\n",
       "        </tr>\n",
       "    </tbody>\n",
       "</table>"
      ],
      "text/plain": [
       "[('employees',), ('sqlite_sequence',)]"
      ]
     },
     "execution_count": 4,
     "metadata": {},
     "output_type": "execute_result"
    }
   ],
   "source": [
    "%sql SELECT name FROM sqlite_master WHERE type='table';"
   ]
  },
  {
   "cell_type": "code",
   "execution_count": 5,
   "metadata": {},
   "outputs": [
    {
     "name": "stdout",
     "output_type": "stream",
     "text": [
      " * sqlite:///sql-methods.db\n",
      "Done.\n",
      "Done.\n"
     ]
    },
    {
     "data": {
      "text/plain": [
       "[]"
      ]
     },
     "execution_count": 5,
     "metadata": {},
     "output_type": "execute_result"
    }
   ],
   "source": [
    "%%sql\n",
    "ALTER TABLE employees\n",
    "ADD hire_date DATE;\n",
    "\n",
    "ALTER TABLE employees\n",
    "ADD performance_rating INTEGER;"
   ]
  },
  {
   "cell_type": "code",
   "execution_count": 6,
   "metadata": {},
   "outputs": [
    {
     "name": "stdout",
     "output_type": "stream",
     "text": [
      " * sqlite:///sql-methods.db\n",
      "1 rows affected.\n",
      "1 rows affected.\n",
      "1 rows affected.\n",
      "1 rows affected.\n",
      "1 rows affected.\n"
     ]
    },
    {
     "data": {
      "text/plain": [
       "[]"
      ]
     },
     "execution_count": 6,
     "metadata": {},
     "output_type": "execute_result"
    }
   ],
   "source": [
    "%%sql\n",
    "-- Inserting Data\n",
    "\n",
    "INSERT INTO employees (first_name, last_name, department, salary, hire_date, performance_rating)\n",
    "VALUES ('John', 'Doe', 'Sales', 50000.00, '2024-04-23', 3);\n",
    "\n",
    "INSERT INTO employees (first_name, last_name, department, salary, hire_date, performance_rating)\n",
    "VALUES ('Jane', 'Smith', 'Marketing', 55000.00, '2024-04-25', 4);\n",
    "\n",
    "INSERT INTO employees (first_name, last_name, department, salary, hire_date, performance_rating)\n",
    "VALUES ('Michael', 'Scott', 'Sales', 60000.00, '2024-04-26', 5);\n",
    "\n",
    "INSERT INTO employees (first_name, last_name, department, salary, hire_date, performance_rating)\n",
    "VALUES ('Emily', 'Davis', 'Operations', 62000.00, '2024-04-27', 2);\n",
    "\n",
    "INSERT INTO employees (first_name, last_name, department, salary, hire_date, performance_rating)\n",
    "VALUES ('David', 'Wilson', 'Operations', 58000.00, '2024-04-28', 1);"
   ]
  },
  {
   "cell_type": "code",
   "execution_count": 7,
   "metadata": {},
   "outputs": [
    {
     "name": "stdout",
     "output_type": "stream",
     "text": [
      " * sqlite:///sql-methods.db\n",
      "Done.\n"
     ]
    },
    {
     "data": {
      "text/html": [
       "<table>\n",
       "    <thead>\n",
       "        <tr>\n",
       "            <th>employee_id</th>\n",
       "            <th>first_name</th>\n",
       "            <th>last_name</th>\n",
       "            <th>department</th>\n",
       "            <th>salary</th>\n",
       "            <th>hire_date</th>\n",
       "            <th>performance_rating</th>\n",
       "        </tr>\n",
       "    </thead>\n",
       "    <tbody>\n",
       "        <tr>\n",
       "            <td>1</td>\n",
       "            <td>John</td>\n",
       "            <td>Doe</td>\n",
       "            <td>Sales</td>\n",
       "            <td>50000</td>\n",
       "            <td>2024-04-23</td>\n",
       "            <td>3</td>\n",
       "        </tr>\n",
       "        <tr>\n",
       "            <td>2</td>\n",
       "            <td>Jane</td>\n",
       "            <td>Smith</td>\n",
       "            <td>Marketing</td>\n",
       "            <td>55000</td>\n",
       "            <td>2024-04-25</td>\n",
       "            <td>4</td>\n",
       "        </tr>\n",
       "        <tr>\n",
       "            <td>3</td>\n",
       "            <td>Michael</td>\n",
       "            <td>Scott</td>\n",
       "            <td>Sales</td>\n",
       "            <td>60000</td>\n",
       "            <td>2024-04-26</td>\n",
       "            <td>5</td>\n",
       "        </tr>\n",
       "        <tr>\n",
       "            <td>4</td>\n",
       "            <td>Emily</td>\n",
       "            <td>Davis</td>\n",
       "            <td>Operations</td>\n",
       "            <td>62000</td>\n",
       "            <td>2024-04-27</td>\n",
       "            <td>2</td>\n",
       "        </tr>\n",
       "        <tr>\n",
       "            <td>5</td>\n",
       "            <td>David</td>\n",
       "            <td>Wilson</td>\n",
       "            <td>Operations</td>\n",
       "            <td>58000</td>\n",
       "            <td>2024-04-28</td>\n",
       "            <td>1</td>\n",
       "        </tr>\n",
       "    </tbody>\n",
       "</table>"
      ],
      "text/plain": [
       "[(1, 'John', 'Doe', 'Sales', 50000, '2024-04-23', 3),\n",
       " (2, 'Jane', 'Smith', 'Marketing', 55000, '2024-04-25', 4),\n",
       " (3, 'Michael', 'Scott', 'Sales', 60000, '2024-04-26', 5),\n",
       " (4, 'Emily', 'Davis', 'Operations', 62000, '2024-04-27', 2),\n",
       " (5, 'David', 'Wilson', 'Operations', 58000, '2024-04-28', 1)]"
      ]
     },
     "execution_count": 7,
     "metadata": {},
     "output_type": "execute_result"
    }
   ],
   "source": [
    "%sql SELECT * FROM employees;"
   ]
  },
  {
   "cell_type": "markdown",
   "metadata": {},
   "source": [
    "## DISTINCT\n",
    "\n",
    "The **DISTINCT** keyword is used to return only distinct (unique) values in the result set of a query. It ensures that duplicate rows are removed from the output."
   ]
  },
  {
   "cell_type": "code",
   "execution_count": 8,
   "metadata": {},
   "outputs": [
    {
     "name": "stdout",
     "output_type": "stream",
     "text": [
      " * sqlite:///sql-methods.db\n",
      "1 rows affected.\n",
      "1 rows affected.\n"
     ]
    },
    {
     "data": {
      "text/plain": [
       "[]"
      ]
     },
     "execution_count": 8,
     "metadata": {},
     "output_type": "execute_result"
    }
   ],
   "source": [
    "%%sql\n",
    "\n",
    "INSERT INTO employees (first_name, last_name, department, salary, hire_date, performance_rating) \n",
    "VALUES ('David', 'Blaine', 'Sales', 50000.00, '2024-03-28', 2);\n",
    "\n",
    "INSERT INTO employees (first_name, last_name, department, salary, hire_date, performance_rating) \n",
    "VALUES ('John', 'Doe', 'Marketing', 33000.00, '2024-05-17', 3);"
   ]
  },
  {
   "cell_type": "code",
   "execution_count": 9,
   "metadata": {},
   "outputs": [
    {
     "name": "stdout",
     "output_type": "stream",
     "text": [
      " * sqlite:///sql-methods.db\n",
      "Done.\n"
     ]
    },
    {
     "data": {
      "text/html": [
       "<table>\n",
       "    <thead>\n",
       "        <tr>\n",
       "            <th>first_name</th>\n",
       "            <th>last_name</th>\n",
       "        </tr>\n",
       "    </thead>\n",
       "    <tbody>\n",
       "        <tr>\n",
       "            <td>John</td>\n",
       "            <td>Doe</td>\n",
       "        </tr>\n",
       "        <tr>\n",
       "            <td>Jane</td>\n",
       "            <td>Smith</td>\n",
       "        </tr>\n",
       "        <tr>\n",
       "            <td>Michael</td>\n",
       "            <td>Scott</td>\n",
       "        </tr>\n",
       "        <tr>\n",
       "            <td>Emily</td>\n",
       "            <td>Davis</td>\n",
       "        </tr>\n",
       "        <tr>\n",
       "            <td>David</td>\n",
       "            <td>Wilson</td>\n",
       "        </tr>\n",
       "        <tr>\n",
       "            <td>David</td>\n",
       "            <td>Blaine</td>\n",
       "        </tr>\n",
       "    </tbody>\n",
       "</table>"
      ],
      "text/plain": [
       "[('John', 'Doe'),\n",
       " ('Jane', 'Smith'),\n",
       " ('Michael', 'Scott'),\n",
       " ('Emily', 'Davis'),\n",
       " ('David', 'Wilson'),\n",
       " ('David', 'Blaine')]"
      ]
     },
     "execution_count": 9,
     "metadata": {},
     "output_type": "execute_result"
    }
   ],
   "source": [
    "%%sql\n",
    "-- Retrieve unique combinations of first and last names\n",
    "\n",
    "SELECT DISTINCT first_name, last_name\n",
    "FROM employees;"
   ]
  },
  {
   "cell_type": "code",
   "execution_count": 10,
   "metadata": {},
   "outputs": [
    {
     "name": "stdout",
     "output_type": "stream",
     "text": [
      " * sqlite:///sql-methods.db\n",
      "Done.\n"
     ]
    },
    {
     "data": {
      "text/html": [
       "<table>\n",
       "    <thead>\n",
       "        <tr>\n",
       "            <th>department</th>\n",
       "        </tr>\n",
       "    </thead>\n",
       "    <tbody>\n",
       "        <tr>\n",
       "            <td>Sales</td>\n",
       "        </tr>\n",
       "        <tr>\n",
       "            <td>Marketing</td>\n",
       "        </tr>\n",
       "        <tr>\n",
       "            <td>Operations</td>\n",
       "        </tr>\n",
       "    </tbody>\n",
       "</table>"
      ],
      "text/plain": [
       "[('Sales',), ('Marketing',), ('Operations',)]"
      ]
     },
     "execution_count": 10,
     "metadata": {},
     "output_type": "execute_result"
    }
   ],
   "source": [
    "%%sql\n",
    "-- Retrieve unique department names from employees\n",
    "\n",
    "SELECT DISTINCT department\n",
    "FROM employees;"
   ]
  },
  {
   "cell_type": "code",
   "execution_count": 11,
   "metadata": {},
   "outputs": [
    {
     "name": "stdout",
     "output_type": "stream",
     "text": [
      " * sqlite:///sql-methods.db\n",
      "Done.\n"
     ]
    },
    {
     "data": {
      "text/html": [
       "<table>\n",
       "    <thead>\n",
       "        <tr>\n",
       "            <th>employee_id</th>\n",
       "            <th>first_name</th>\n",
       "            <th>last_name</th>\n",
       "            <th>department</th>\n",
       "            <th>salary</th>\n",
       "            <th>hire_date</th>\n",
       "            <th>performance_rating</th>\n",
       "        </tr>\n",
       "    </thead>\n",
       "    <tbody>\n",
       "        <tr>\n",
       "            <td>1</td>\n",
       "            <td>John</td>\n",
       "            <td>Doe</td>\n",
       "            <td>Sales</td>\n",
       "            <td>50000</td>\n",
       "            <td>2024-04-23</td>\n",
       "            <td>3</td>\n",
       "        </tr>\n",
       "        <tr>\n",
       "            <td>2</td>\n",
       "            <td>Jane</td>\n",
       "            <td>Smith</td>\n",
       "            <td>Marketing</td>\n",
       "            <td>55000</td>\n",
       "            <td>2024-04-25</td>\n",
       "            <td>4</td>\n",
       "        </tr>\n",
       "        <tr>\n",
       "            <td>3</td>\n",
       "            <td>Michael</td>\n",
       "            <td>Scott</td>\n",
       "            <td>Sales</td>\n",
       "            <td>60000</td>\n",
       "            <td>2024-04-26</td>\n",
       "            <td>5</td>\n",
       "        </tr>\n",
       "        <tr>\n",
       "            <td>4</td>\n",
       "            <td>Emily</td>\n",
       "            <td>Davis</td>\n",
       "            <td>Operations</td>\n",
       "            <td>62000</td>\n",
       "            <td>2024-04-27</td>\n",
       "            <td>2</td>\n",
       "        </tr>\n",
       "        <tr>\n",
       "            <td>5</td>\n",
       "            <td>David</td>\n",
       "            <td>Wilson</td>\n",
       "            <td>Operations</td>\n",
       "            <td>58000</td>\n",
       "            <td>2024-04-28</td>\n",
       "            <td>1</td>\n",
       "        </tr>\n",
       "        <tr>\n",
       "            <td>6</td>\n",
       "            <td>David</td>\n",
       "            <td>Blaine</td>\n",
       "            <td>Sales</td>\n",
       "            <td>50000</td>\n",
       "            <td>2024-03-28</td>\n",
       "            <td>2</td>\n",
       "        </tr>\n",
       "        <tr>\n",
       "            <td>7</td>\n",
       "            <td>John</td>\n",
       "            <td>Doe</td>\n",
       "            <td>Marketing</td>\n",
       "            <td>33000</td>\n",
       "            <td>2024-05-17</td>\n",
       "            <td>3</td>\n",
       "        </tr>\n",
       "    </tbody>\n",
       "</table>"
      ],
      "text/plain": [
       "[(1, 'John', 'Doe', 'Sales', 50000, '2024-04-23', 3),\n",
       " (2, 'Jane', 'Smith', 'Marketing', 55000, '2024-04-25', 4),\n",
       " (3, 'Michael', 'Scott', 'Sales', 60000, '2024-04-26', 5),\n",
       " (4, 'Emily', 'Davis', 'Operations', 62000, '2024-04-27', 2),\n",
       " (5, 'David', 'Wilson', 'Operations', 58000, '2024-04-28', 1),\n",
       " (6, 'David', 'Blaine', 'Sales', 50000, '2024-03-28', 2),\n",
       " (7, 'John', 'Doe', 'Marketing', 33000, '2024-05-17', 3)]"
      ]
     },
     "execution_count": 11,
     "metadata": {},
     "output_type": "execute_result"
    }
   ],
   "source": [
    "%sql SELECT * FROM employees;"
   ]
  },
  {
   "cell_type": "markdown",
   "metadata": {},
   "source": [
    "## LIMIT\n",
    "\n",
    "The **LIMIT** clause specifies the maximum number of rows to return in a query result.\n",
    "\n",
    "It's commonly used for:\n",
    "\n",
    "*   Pagination: Retrieving results in smaller chunks, often used in web applications to display data in pages.\n",
    "*   Performance optimization: Limiting the number of rows processed, especially for large datasets, can improve query speed."
   ]
  },
  {
   "cell_type": "code",
   "execution_count": 12,
   "metadata": {},
   "outputs": [
    {
     "name": "stdout",
     "output_type": "stream",
     "text": [
      " * sqlite:///sql-methods.db\n",
      "Done.\n"
     ]
    },
    {
     "data": {
      "text/html": [
       "<table>\n",
       "    <thead>\n",
       "        <tr>\n",
       "            <th>employee_id</th>\n",
       "            <th>first_name</th>\n",
       "            <th>last_name</th>\n",
       "            <th>department</th>\n",
       "            <th>salary</th>\n",
       "            <th>hire_date</th>\n",
       "            <th>performance_rating</th>\n",
       "        </tr>\n",
       "    </thead>\n",
       "    <tbody>\n",
       "        <tr>\n",
       "            <td>1</td>\n",
       "            <td>John</td>\n",
       "            <td>Doe</td>\n",
       "            <td>Sales</td>\n",
       "            <td>50000</td>\n",
       "            <td>2024-04-23</td>\n",
       "            <td>3</td>\n",
       "        </tr>\n",
       "        <tr>\n",
       "            <td>2</td>\n",
       "            <td>Jane</td>\n",
       "            <td>Smith</td>\n",
       "            <td>Marketing</td>\n",
       "            <td>55000</td>\n",
       "            <td>2024-04-25</td>\n",
       "            <td>4</td>\n",
       "        </tr>\n",
       "        <tr>\n",
       "            <td>3</td>\n",
       "            <td>Michael</td>\n",
       "            <td>Scott</td>\n",
       "            <td>Sales</td>\n",
       "            <td>60000</td>\n",
       "            <td>2024-04-26</td>\n",
       "            <td>5</td>\n",
       "        </tr>\n",
       "        <tr>\n",
       "            <td>4</td>\n",
       "            <td>Emily</td>\n",
       "            <td>Davis</td>\n",
       "            <td>Operations</td>\n",
       "            <td>62000</td>\n",
       "            <td>2024-04-27</td>\n",
       "            <td>2</td>\n",
       "        </tr>\n",
       "        <tr>\n",
       "            <td>5</td>\n",
       "            <td>David</td>\n",
       "            <td>Wilson</td>\n",
       "            <td>Operations</td>\n",
       "            <td>58000</td>\n",
       "            <td>2024-04-28</td>\n",
       "            <td>1</td>\n",
       "        </tr>\n",
       "    </tbody>\n",
       "</table>"
      ],
      "text/plain": [
       "[(1, 'John', 'Doe', 'Sales', 50000, '2024-04-23', 3),\n",
       " (2, 'Jane', 'Smith', 'Marketing', 55000, '2024-04-25', 4),\n",
       " (3, 'Michael', 'Scott', 'Sales', 60000, '2024-04-26', 5),\n",
       " (4, 'Emily', 'Davis', 'Operations', 62000, '2024-04-27', 2),\n",
       " (5, 'David', 'Wilson', 'Operations', 58000, '2024-04-28', 1)]"
      ]
     },
     "execution_count": 12,
     "metadata": {},
     "output_type": "execute_result"
    }
   ],
   "source": [
    "%%sql\n",
    "-- Retrieve the first n employees from the employees table\n",
    "\n",
    "SELECT * FROM employees\n",
    "LIMIT 5;"
   ]
  },
  {
   "cell_type": "code",
   "execution_count": 13,
   "metadata": {},
   "outputs": [
    {
     "name": "stdout",
     "output_type": "stream",
     "text": [
      " * sqlite:///sql-methods.db\n",
      "Done.\n"
     ]
    },
    {
     "data": {
      "text/html": [
       "<table>\n",
       "    <thead>\n",
       "        <tr>\n",
       "            <th>employee_id</th>\n",
       "            <th>first_name</th>\n",
       "            <th>last_name</th>\n",
       "            <th>department</th>\n",
       "            <th>salary</th>\n",
       "            <th>hire_date</th>\n",
       "            <th>performance_rating</th>\n",
       "        </tr>\n",
       "    </thead>\n",
       "    <tbody>\n",
       "        <tr>\n",
       "            <td>4</td>\n",
       "            <td>Emily</td>\n",
       "            <td>Davis</td>\n",
       "            <td>Operations</td>\n",
       "            <td>62000</td>\n",
       "            <td>2024-04-27</td>\n",
       "            <td>2</td>\n",
       "        </tr>\n",
       "        <tr>\n",
       "            <td>5</td>\n",
       "            <td>David</td>\n",
       "            <td>Wilson</td>\n",
       "            <td>Operations</td>\n",
       "            <td>58000</td>\n",
       "            <td>2024-04-28</td>\n",
       "            <td>1</td>\n",
       "        </tr>\n",
       "        <tr>\n",
       "            <td>6</td>\n",
       "            <td>David</td>\n",
       "            <td>Blaine</td>\n",
       "            <td>Sales</td>\n",
       "            <td>50000</td>\n",
       "            <td>2024-03-28</td>\n",
       "            <td>2</td>\n",
       "        </tr>\n",
       "        <tr>\n",
       "            <td>7</td>\n",
       "            <td>John</td>\n",
       "            <td>Doe</td>\n",
       "            <td>Marketing</td>\n",
       "            <td>33000</td>\n",
       "            <td>2024-05-17</td>\n",
       "            <td>3</td>\n",
       "        </tr>\n",
       "    </tbody>\n",
       "</table>"
      ],
      "text/plain": [
       "[(4, 'Emily', 'Davis', 'Operations', 62000, '2024-04-27', 2),\n",
       " (5, 'David', 'Wilson', 'Operations', 58000, '2024-04-28', 1),\n",
       " (6, 'David', 'Blaine', 'Sales', 50000, '2024-03-28', 2),\n",
       " (7, 'John', 'Doe', 'Marketing', 33000, '2024-05-17', 3)]"
      ]
     },
     "execution_count": 13,
     "metadata": {},
     "output_type": "execute_result"
    }
   ],
   "source": [
    "%%sql\n",
    "-- Starting at an offset of 3\n",
    "\n",
    "-- LIMIT (starting offset, how many rows to display)\n",
    "SELECT * FROM employees\n",
    "LIMIT 3, 5;"
   ]
  },
  {
   "cell_type": "markdown",
   "metadata": {},
   "source": [
    "## COUNT\n",
    "\n",
    "The **COUNT** function is used to count the number of rows in a table or the number of rows matching a specific condition."
   ]
  },
  {
   "cell_type": "code",
   "execution_count": 14,
   "metadata": {},
   "outputs": [
    {
     "name": "stdout",
     "output_type": "stream",
     "text": [
      " * sqlite:///sql-methods.db\n",
      "Done.\n"
     ]
    },
    {
     "data": {
      "text/html": [
       "<table>\n",
       "    <thead>\n",
       "        <tr>\n",
       "            <th>COUNT(*)</th>\n",
       "        </tr>\n",
       "    </thead>\n",
       "    <tbody>\n",
       "        <tr>\n",
       "            <td>7</td>\n",
       "        </tr>\n",
       "    </tbody>\n",
       "</table>"
      ],
      "text/plain": [
       "[(7,)]"
      ]
     },
     "execution_count": 14,
     "metadata": {},
     "output_type": "execute_result"
    }
   ],
   "source": [
    "%%sql\n",
    "-- Count the total number of rows in the \"employees\" table.\n",
    "\n",
    "SELECT COUNT(*) FROM employees;"
   ]
  },
  {
   "cell_type": "code",
   "execution_count": 15,
   "metadata": {},
   "outputs": [
    {
     "name": "stdout",
     "output_type": "stream",
     "text": [
      " * sqlite:///sql-methods.db\n",
      "Done.\n"
     ]
    },
    {
     "data": {
      "text/html": [
       "<table>\n",
       "    <thead>\n",
       "        <tr>\n",
       "            <th>COUNT(DISTINCT department)</th>\n",
       "            <th>COUNT (*)</th>\n",
       "        </tr>\n",
       "    </thead>\n",
       "    <tbody>\n",
       "        <tr>\n",
       "            <td>3</td>\n",
       "            <td>7</td>\n",
       "        </tr>\n",
       "    </tbody>\n",
       "</table>"
      ],
      "text/plain": [
       "[(3, 7)]"
      ]
     },
     "execution_count": 15,
     "metadata": {},
     "output_type": "execute_result"
    }
   ],
   "source": [
    "%%sql\n",
    "-- Count the total number of departments in the \"employees\" table. (must be unique)\n",
    "\n",
    "SELECT COUNT(DISTINCT department), COUNT (*) FROM employees;"
   ]
  },
  {
   "cell_type": "code",
   "execution_count": 16,
   "metadata": {},
   "outputs": [
    {
     "name": "stdout",
     "output_type": "stream",
     "text": [
      " * sqlite:///sql-methods.db\n",
      "Done.\n"
     ]
    },
    {
     "data": {
      "text/html": [
       "<table>\n",
       "    <thead>\n",
       "        <tr>\n",
       "            <th>COUNT(first_name)</th>\n",
       "        </tr>\n",
       "    </thead>\n",
       "    <tbody>\n",
       "        <tr>\n",
       "            <td>2</td>\n",
       "        </tr>\n",
       "    </tbody>\n",
       "</table>"
      ],
      "text/plain": [
       "[(2,)]"
      ]
     },
     "execution_count": 16,
     "metadata": {},
     "output_type": "execute_result"
    }
   ],
   "source": [
    "%%sql\n",
    "-- Use a condition (WHERE) to filter out the data based on a condition\n",
    "\n",
    "SELECT COUNT(first_name) FROM employees WHERE first_name = 'John'"
   ]
  },
  {
   "cell_type": "markdown",
   "metadata": {},
   "source": [
    "# WHERE\n",
    "The **WHERE** clause is used to filter data retrieved from a database based on specific conditions.\n",
    "\n",
    "It allows you to narrow down your results to only include rows that meet certain criteria.\n",
    "\n",
    "> **Common Operators Used in WHERE Clause:**\n",
    "\n",
    "```\n",
    "Comparison Operators:\n",
    "  =: Equal to\n",
    "  !=: Not equal to\n",
    "  <: Less than\n",
    "  >: Greater than\n",
    "  <=: Less than or equal to\n",
    "  >=: Greater than or equal to\n",
    "\n",
    "Logical Operators:\n",
    "  AND: Used to combine multiple conditions where both must be true.\n",
    "  OR: Used to combine multiple conditions where at least one must be true.\n",
    "  NOT: Used to negate a condition.\n",
    "  \n",
    "Special Operators:\n",
    "  BETWEEN: Checks if a value falls within a specified range.\n",
    "  IN: Checks if a value belongs to a set of values.\n",
    "  LIKE: Used for pattern matching with wildcards.\n",
    "  ```"
   ]
  },
  {
   "cell_type": "code",
   "execution_count": 17,
   "metadata": {},
   "outputs": [
    {
     "name": "stdout",
     "output_type": "stream",
     "text": [
      " * sqlite:///sql-methods.db\n",
      "Done.\n",
      "Done.\n",
      "Done.\n",
      "Done.\n",
      "Done.\n",
      "Done.\n"
     ]
    },
    {
     "data": {
      "text/html": [
       "<table>\n",
       "    <thead>\n",
       "        <tr>\n",
       "            <th>employee_id</th>\n",
       "            <th>first_name</th>\n",
       "            <th>last_name</th>\n",
       "            <th>department</th>\n",
       "            <th>salary</th>\n",
       "            <th>hire_date</th>\n",
       "            <th>performance_rating</th>\n",
       "        </tr>\n",
       "    </thead>\n",
       "    <tbody>\n",
       "        <tr>\n",
       "            <td>1</td>\n",
       "            <td>John</td>\n",
       "            <td>Doe</td>\n",
       "            <td>Sales</td>\n",
       "            <td>50000</td>\n",
       "            <td>2024-04-23</td>\n",
       "            <td>3</td>\n",
       "        </tr>\n",
       "        <tr>\n",
       "            <td>2</td>\n",
       "            <td>Jane</td>\n",
       "            <td>Smith</td>\n",
       "            <td>Marketing</td>\n",
       "            <td>55000</td>\n",
       "            <td>2024-04-25</td>\n",
       "            <td>4</td>\n",
       "        </tr>\n",
       "        <tr>\n",
       "            <td>3</td>\n",
       "            <td>Michael</td>\n",
       "            <td>Scott</td>\n",
       "            <td>Sales</td>\n",
       "            <td>60000</td>\n",
       "            <td>2024-04-26</td>\n",
       "            <td>5</td>\n",
       "        </tr>\n",
       "        <tr>\n",
       "            <td>4</td>\n",
       "            <td>Emily</td>\n",
       "            <td>Davis</td>\n",
       "            <td>Operations</td>\n",
       "            <td>62000</td>\n",
       "            <td>2024-04-27</td>\n",
       "            <td>2</td>\n",
       "        </tr>\n",
       "        <tr>\n",
       "            <td>6</td>\n",
       "            <td>David</td>\n",
       "            <td>Blaine</td>\n",
       "            <td>Sales</td>\n",
       "            <td>50000</td>\n",
       "            <td>2024-03-28</td>\n",
       "            <td>2</td>\n",
       "        </tr>\n",
       "        <tr>\n",
       "            <td>7</td>\n",
       "            <td>John</td>\n",
       "            <td>Doe</td>\n",
       "            <td>Marketing</td>\n",
       "            <td>33000</td>\n",
       "            <td>2024-05-17</td>\n",
       "            <td>3</td>\n",
       "        </tr>\n",
       "    </tbody>\n",
       "</table>"
      ],
      "text/plain": [
       "[(1, 'John', 'Doe', 'Sales', 50000, '2024-04-23', 3),\n",
       " (2, 'Jane', 'Smith', 'Marketing', 55000, '2024-04-25', 4),\n",
       " (3, 'Michael', 'Scott', 'Sales', 60000, '2024-04-26', 5),\n",
       " (4, 'Emily', 'Davis', 'Operations', 62000, '2024-04-27', 2),\n",
       " (6, 'David', 'Blaine', 'Sales', 50000, '2024-03-28', 2),\n",
       " (7, 'John', 'Doe', 'Marketing', 33000, '2024-05-17', 3)]"
      ]
     },
     "execution_count": 17,
     "metadata": {},
     "output_type": "execute_result"
    }
   ],
   "source": [
    "%%sql\n",
    "\n",
    "-- using the equal to [ = ]\n",
    "SELECT * FROM employees\n",
    "WHERE department = 'Sales';\n",
    "\n",
    "-- using the not equal to [ != ]\n",
    "SELECT * FROM employees\n",
    "WHERE department != 'Sales';\n",
    "\n",
    "-- less than [ < ]\n",
    "SELECT * FROM employees\n",
    "WHERE performance_rating < 3;\n",
    "\n",
    "-- greater than [ > ]\n",
    "SELECT * FROM employees\n",
    "WHERE performance_rating > 2;\n",
    "\n",
    "-- less than or equal to [ <= ]\n",
    "SELECT * FROM employees\n",
    "WHERE performance_rating <= 3;\n",
    "\n",
    "-- greater than or equal to [ >= ]\n",
    "SELECT * FROM employees\n",
    "WHERE performance_rating >= 2;"
   ]
  },
  {
   "cell_type": "code",
   "execution_count": 18,
   "metadata": {},
   "outputs": [
    {
     "name": "stdout",
     "output_type": "stream",
     "text": [
      " * sqlite:///sql-methods.db\n",
      "Done.\n",
      "Done.\n",
      "Done.\n"
     ]
    },
    {
     "data": {
      "text/html": [
       "<table>\n",
       "    <thead>\n",
       "        <tr>\n",
       "            <th>employee_id</th>\n",
       "            <th>first_name</th>\n",
       "            <th>last_name</th>\n",
       "            <th>department</th>\n",
       "            <th>salary</th>\n",
       "            <th>hire_date</th>\n",
       "            <th>performance_rating</th>\n",
       "        </tr>\n",
       "    </thead>\n",
       "    <tbody>\n",
       "        <tr>\n",
       "            <td>1</td>\n",
       "            <td>John</td>\n",
       "            <td>Doe</td>\n",
       "            <td>Sales</td>\n",
       "            <td>50000</td>\n",
       "            <td>2024-04-23</td>\n",
       "            <td>3</td>\n",
       "        </tr>\n",
       "        <tr>\n",
       "            <td>3</td>\n",
       "            <td>Michael</td>\n",
       "            <td>Scott</td>\n",
       "            <td>Sales</td>\n",
       "            <td>60000</td>\n",
       "            <td>2024-04-26</td>\n",
       "            <td>5</td>\n",
       "        </tr>\n",
       "        <tr>\n",
       "            <td>4</td>\n",
       "            <td>Emily</td>\n",
       "            <td>Davis</td>\n",
       "            <td>Operations</td>\n",
       "            <td>62000</td>\n",
       "            <td>2024-04-27</td>\n",
       "            <td>2</td>\n",
       "        </tr>\n",
       "        <tr>\n",
       "            <td>5</td>\n",
       "            <td>David</td>\n",
       "            <td>Wilson</td>\n",
       "            <td>Operations</td>\n",
       "            <td>58000</td>\n",
       "            <td>2024-04-28</td>\n",
       "            <td>1</td>\n",
       "        </tr>\n",
       "        <tr>\n",
       "            <td>6</td>\n",
       "            <td>David</td>\n",
       "            <td>Blaine</td>\n",
       "            <td>Sales</td>\n",
       "            <td>50000</td>\n",
       "            <td>2024-03-28</td>\n",
       "            <td>2</td>\n",
       "        </tr>\n",
       "    </tbody>\n",
       "</table>"
      ],
      "text/plain": [
       "[(1, 'John', 'Doe', 'Sales', 50000, '2024-04-23', 3),\n",
       " (3, 'Michael', 'Scott', 'Sales', 60000, '2024-04-26', 5),\n",
       " (4, 'Emily', 'Davis', 'Operations', 62000, '2024-04-27', 2),\n",
       " (5, 'David', 'Wilson', 'Operations', 58000, '2024-04-28', 1),\n",
       " (6, 'David', 'Blaine', 'Sales', 50000, '2024-03-28', 2)]"
      ]
     },
     "execution_count": 18,
     "metadata": {},
     "output_type": "execute_result"
    }
   ],
   "source": [
    "%%sql\n",
    "-- Logical AND (both left and right statements must be true)\n",
    "SELECT * FROM employees\n",
    "WHERE department = 'Sales' AND salary > 50000;\n",
    "\n",
    "-- Logical OR (at least one statement should be true)\n",
    "SELECT * FROM employees\n",
    "WHERE department = 'Operations' OR department = 'Marketing';\n",
    "\n",
    "-- Logical NOT (opposite)\n",
    "SELECT * FROM employees\n",
    "WHERE NOT department = 'Marketing';"
   ]
  },
  {
   "cell_type": "code",
   "execution_count": 19,
   "metadata": {},
   "outputs": [
    {
     "name": "stdout",
     "output_type": "stream",
     "text": [
      " * sqlite:///sql-methods.db\n",
      "Done.\n",
      "Done.\n",
      "Done.\n",
      "Done.\n",
      "Done.\n",
      "Done.\n",
      "Done.\n"
     ]
    },
    {
     "data": {
      "text/html": [
       "<table>\n",
       "    <thead>\n",
       "        <tr>\n",
       "            <th>employee_id</th>\n",
       "            <th>first_name</th>\n",
       "            <th>last_name</th>\n",
       "            <th>department</th>\n",
       "            <th>salary</th>\n",
       "            <th>hire_date</th>\n",
       "            <th>performance_rating</th>\n",
       "        </tr>\n",
       "    </thead>\n",
       "    <tbody>\n",
       "        <tr>\n",
       "            <td>2</td>\n",
       "            <td>Jane</td>\n",
       "            <td>Smith</td>\n",
       "            <td>Marketing</td>\n",
       "            <td>55000</td>\n",
       "            <td>2024-04-25</td>\n",
       "            <td>4</td>\n",
       "        </tr>\n",
       "        <tr>\n",
       "            <td>5</td>\n",
       "            <td>David</td>\n",
       "            <td>Wilson</td>\n",
       "            <td>Operations</td>\n",
       "            <td>58000</td>\n",
       "            <td>2024-04-28</td>\n",
       "            <td>1</td>\n",
       "        </tr>\n",
       "        <tr>\n",
       "            <td>6</td>\n",
       "            <td>David</td>\n",
       "            <td>Blaine</td>\n",
       "            <td>Sales</td>\n",
       "            <td>50000</td>\n",
       "            <td>2024-03-28</td>\n",
       "            <td>2</td>\n",
       "        </tr>\n",
       "    </tbody>\n",
       "</table>"
      ],
      "text/plain": [
       "[(2, 'Jane', 'Smith', 'Marketing', 55000, '2024-04-25', 4),\n",
       " (5, 'David', 'Wilson', 'Operations', 58000, '2024-04-28', 1),\n",
       " (6, 'David', 'Blaine', 'Sales', 50000, '2024-03-28', 2)]"
      ]
     },
     "execution_count": 19,
     "metadata": {},
     "output_type": "execute_result"
    }
   ],
   "source": [
    "%%sql\n",
    "-- Special Operators\n",
    "\n",
    "-- BETWEEN (range) - inclusive\n",
    "SELECT * FROM employees\n",
    "WHERE salary BETWEEN 50000 AND 60000;\n",
    "\n",
    "-- IN\n",
    "SELECT * FROM employees\n",
    "WHERE first_name IN ('John', 'David');\n",
    "\n",
    "-- LIKE\n",
    "\n",
    "-- ending substring\n",
    "SELECT * FROM employees\n",
    "WHERE last_name LIKE '%son';\n",
    "\n",
    "-- starting substring\n",
    "SELECT * FROM employees\n",
    "WHERE first_name LIKE 'J%';\n",
    "\n",
    "-- contains\n",
    "SELECT * FROM employees\n",
    "WHERE first_name LIKE '%D%';\n",
    "\n",
    "SELECT * FROM employees\n",
    "WHERE first_name LIKE '%a%';\n",
    "\n",
    "-- character position (_ will be characters of the string)\n",
    "SELECT * FROM employees\n",
    "WHERE first_name LIKE '_a%';"
   ]
  },
  {
   "cell_type": "markdown",
   "metadata": {},
   "source": [
    "## ORDER BY\n",
    "\n",
    "The **ORDER BY** clause allows you to sort the results of your SELECT queries in either ascending or descending order. It lets you sort the retrieved data based on one or more columns, making it easier to analyze and interpret.\n",
    "\n",
    "  * **ASC:** Ascending order (lowest to highest).\n",
    "  * **DESC:** Descending order (highest to lowest)."
   ]
  },
  {
   "cell_type": "code",
   "execution_count": 20,
   "metadata": {},
   "outputs": [
    {
     "name": "stdout",
     "output_type": "stream",
     "text": [
      " * sqlite:///sql-methods.db\n",
      "Done.\n",
      "Done.\n",
      "Done.\n"
     ]
    },
    {
     "data": {
      "text/html": [
       "<table>\n",
       "    <thead>\n",
       "        <tr>\n",
       "            <th>employee_id</th>\n",
       "            <th>first_name</th>\n",
       "            <th>last_name</th>\n",
       "            <th>department</th>\n",
       "            <th>salary</th>\n",
       "            <th>hire_date</th>\n",
       "            <th>performance_rating</th>\n",
       "        </tr>\n",
       "    </thead>\n",
       "    <tbody>\n",
       "        <tr>\n",
       "            <td>2</td>\n",
       "            <td>Jane</td>\n",
       "            <td>Smith</td>\n",
       "            <td>Marketing</td>\n",
       "            <td>55000</td>\n",
       "            <td>2024-04-25</td>\n",
       "            <td>4</td>\n",
       "        </tr>\n",
       "        <tr>\n",
       "            <td>7</td>\n",
       "            <td>John</td>\n",
       "            <td>Doe</td>\n",
       "            <td>Marketing</td>\n",
       "            <td>33000</td>\n",
       "            <td>2024-05-17</td>\n",
       "            <td>3</td>\n",
       "        </tr>\n",
       "        <tr>\n",
       "            <td>4</td>\n",
       "            <td>Emily</td>\n",
       "            <td>Davis</td>\n",
       "            <td>Operations</td>\n",
       "            <td>62000</td>\n",
       "            <td>2024-04-27</td>\n",
       "            <td>2</td>\n",
       "        </tr>\n",
       "        <tr>\n",
       "            <td>5</td>\n",
       "            <td>David</td>\n",
       "            <td>Wilson</td>\n",
       "            <td>Operations</td>\n",
       "            <td>58000</td>\n",
       "            <td>2024-04-28</td>\n",
       "            <td>1</td>\n",
       "        </tr>\n",
       "        <tr>\n",
       "            <td>3</td>\n",
       "            <td>Michael</td>\n",
       "            <td>Scott</td>\n",
       "            <td>Sales</td>\n",
       "            <td>60000</td>\n",
       "            <td>2024-04-26</td>\n",
       "            <td>5</td>\n",
       "        </tr>\n",
       "        <tr>\n",
       "            <td>1</td>\n",
       "            <td>John</td>\n",
       "            <td>Doe</td>\n",
       "            <td>Sales</td>\n",
       "            <td>50000</td>\n",
       "            <td>2024-04-23</td>\n",
       "            <td>3</td>\n",
       "        </tr>\n",
       "        <tr>\n",
       "            <td>6</td>\n",
       "            <td>David</td>\n",
       "            <td>Blaine</td>\n",
       "            <td>Sales</td>\n",
       "            <td>50000</td>\n",
       "            <td>2024-03-28</td>\n",
       "            <td>2</td>\n",
       "        </tr>\n",
       "    </tbody>\n",
       "</table>"
      ],
      "text/plain": [
       "[(2, 'Jane', 'Smith', 'Marketing', 55000, '2024-04-25', 4),\n",
       " (7, 'John', 'Doe', 'Marketing', 33000, '2024-05-17', 3),\n",
       " (4, 'Emily', 'Davis', 'Operations', 62000, '2024-04-27', 2),\n",
       " (5, 'David', 'Wilson', 'Operations', 58000, '2024-04-28', 1),\n",
       " (3, 'Michael', 'Scott', 'Sales', 60000, '2024-04-26', 5),\n",
       " (1, 'John', 'Doe', 'Sales', 50000, '2024-04-23', 3),\n",
       " (6, 'David', 'Blaine', 'Sales', 50000, '2024-03-28', 2)]"
      ]
     },
     "execution_count": 20,
     "metadata": {},
     "output_type": "execute_result"
    }
   ],
   "source": [
    "%%sql\n",
    "\n",
    "-- Sorting by a single column\n",
    "SELECT * FROM employees\n",
    "ORDER BY last_name ASC;\n",
    "\n",
    "SELECT * FROM employees\n",
    "ORDER BY last_name DESC;\n",
    "\n",
    "-- Sorting Multiple Columns\n",
    "SELECT * FROM employees\n",
    "ORDER BY department ASC, salary DESC;"
   ]
  },
  {
   "cell_type": "code",
   "execution_count": 21,
   "metadata": {},
   "outputs": [
    {
     "name": "stdout",
     "output_type": "stream",
     "text": [
      " * sqlite:///sql-methods.db\n",
      "Done.\n"
     ]
    },
    {
     "data": {
      "text/html": [
       "<table>\n",
       "    <thead>\n",
       "        <tr>\n",
       "            <th>employee_id</th>\n",
       "            <th>first_name</th>\n",
       "            <th>last_name</th>\n",
       "            <th>department</th>\n",
       "            <th>salary</th>\n",
       "            <th>hire_date</th>\n",
       "            <th>performance_rating</th>\n",
       "        </tr>\n",
       "    </thead>\n",
       "    <tbody>\n",
       "        <tr>\n",
       "            <td>4</td>\n",
       "            <td>Emily</td>\n",
       "            <td>Davis</td>\n",
       "            <td>Operations</td>\n",
       "            <td>62000</td>\n",
       "            <td>2024-04-27</td>\n",
       "            <td>2</td>\n",
       "        </tr>\n",
       "        <tr>\n",
       "            <td>5</td>\n",
       "            <td>David</td>\n",
       "            <td>Wilson</td>\n",
       "            <td>Operations</td>\n",
       "            <td>58000</td>\n",
       "            <td>2024-04-28</td>\n",
       "            <td>1</td>\n",
       "        </tr>\n",
       "        <tr>\n",
       "            <td>1</td>\n",
       "            <td>John</td>\n",
       "            <td>Doe</td>\n",
       "            <td>Sales</td>\n",
       "            <td>50000</td>\n",
       "            <td>2024-04-23</td>\n",
       "            <td>3</td>\n",
       "        </tr>\n",
       "        <tr>\n",
       "            <td>6</td>\n",
       "            <td>David</td>\n",
       "            <td>Blaine</td>\n",
       "            <td>Sales</td>\n",
       "            <td>50000</td>\n",
       "            <td>2024-03-28</td>\n",
       "            <td>2</td>\n",
       "        </tr>\n",
       "        <tr>\n",
       "            <td>7</td>\n",
       "            <td>John</td>\n",
       "            <td>Doe</td>\n",
       "            <td>Marketing</td>\n",
       "            <td>33000</td>\n",
       "            <td>2024-05-17</td>\n",
       "            <td>3</td>\n",
       "        </tr>\n",
       "        <tr>\n",
       "            <td>3</td>\n",
       "            <td>Michael</td>\n",
       "            <td>Scott</td>\n",
       "            <td>Sales</td>\n",
       "            <td>60000</td>\n",
       "            <td>2024-04-26</td>\n",
       "            <td>5</td>\n",
       "        </tr>\n",
       "        <tr>\n",
       "            <td>2</td>\n",
       "            <td>Jane</td>\n",
       "            <td>Smith</td>\n",
       "            <td>Marketing</td>\n",
       "            <td>55000</td>\n",
       "            <td>2024-04-25</td>\n",
       "            <td>4</td>\n",
       "        </tr>\n",
       "    </tbody>\n",
       "</table>"
      ],
      "text/plain": [
       "[(4, 'Emily', 'Davis', 'Operations', 62000, '2024-04-27', 2),\n",
       " (5, 'David', 'Wilson', 'Operations', 58000, '2024-04-28', 1),\n",
       " (1, 'John', 'Doe', 'Sales', 50000, '2024-04-23', 3),\n",
       " (6, 'David', 'Blaine', 'Sales', 50000, '2024-03-28', 2),\n",
       " (7, 'John', 'Doe', 'Marketing', 33000, '2024-05-17', 3),\n",
       " (3, 'Michael', 'Scott', 'Sales', 60000, '2024-04-26', 5),\n",
       " (2, 'Jane', 'Smith', 'Marketing', 55000, '2024-04-25', 4)]"
      ]
     },
     "execution_count": 21,
     "metadata": {},
     "output_type": "execute_result"
    }
   ],
   "source": [
    "%%sql\n",
    "-- Sorting by Expressions\n",
    "\n",
    "SELECT * FROM employees\n",
    "ORDER BY performance_rating > 3 ASC, salary DESC;"
   ]
  },
  {
   "cell_type": "code",
   "execution_count": 22,
   "metadata": {},
   "outputs": [
    {
     "name": "stdout",
     "output_type": "stream",
     "text": [
      " * sqlite:///sql-methods.db\n",
      "Done.\n"
     ]
    },
    {
     "data": {
      "text/html": [
       "<table>\n",
       "    <thead>\n",
       "        <tr>\n",
       "            <th>employee_id</th>\n",
       "            <th>first_name</th>\n",
       "            <th>last_name</th>\n",
       "            <th>department</th>\n",
       "            <th>salary</th>\n",
       "            <th>hire_date</th>\n",
       "            <th>performance_rating</th>\n",
       "        </tr>\n",
       "    </thead>\n",
       "    <tbody>\n",
       "        <tr>\n",
       "            <td>6</td>\n",
       "            <td>David</td>\n",
       "            <td>Blaine</td>\n",
       "            <td>Sales</td>\n",
       "            <td>50000</td>\n",
       "            <td>2024-03-28</td>\n",
       "            <td>2</td>\n",
       "        </tr>\n",
       "        <tr>\n",
       "            <td>4</td>\n",
       "            <td>Emily</td>\n",
       "            <td>Davis</td>\n",
       "            <td>Operations</td>\n",
       "            <td>62000</td>\n",
       "            <td>2024-04-27</td>\n",
       "            <td>2</td>\n",
       "        </tr>\n",
       "        <tr>\n",
       "            <td>1</td>\n",
       "            <td>John</td>\n",
       "            <td>Doe</td>\n",
       "            <td>Sales</td>\n",
       "            <td>50000</td>\n",
       "            <td>2024-04-23</td>\n",
       "            <td>3</td>\n",
       "        </tr>\n",
       "        <tr>\n",
       "            <td>7</td>\n",
       "            <td>John</td>\n",
       "            <td>Doe</td>\n",
       "            <td>Marketing</td>\n",
       "            <td>33000</td>\n",
       "            <td>2024-05-17</td>\n",
       "            <td>3</td>\n",
       "        </tr>\n",
       "        <tr>\n",
       "            <td>3</td>\n",
       "            <td>Michael</td>\n",
       "            <td>Scott</td>\n",
       "            <td>Sales</td>\n",
       "            <td>60000</td>\n",
       "            <td>2024-04-26</td>\n",
       "            <td>5</td>\n",
       "        </tr>\n",
       "        <tr>\n",
       "            <td>2</td>\n",
       "            <td>Jane</td>\n",
       "            <td>Smith</td>\n",
       "            <td>Marketing</td>\n",
       "            <td>55000</td>\n",
       "            <td>2024-04-25</td>\n",
       "            <td>4</td>\n",
       "        </tr>\n",
       "        <tr>\n",
       "            <td>5</td>\n",
       "            <td>David</td>\n",
       "            <td>Wilson</td>\n",
       "            <td>Operations</td>\n",
       "            <td>58000</td>\n",
       "            <td>2024-04-28</td>\n",
       "            <td>1</td>\n",
       "        </tr>\n",
       "    </tbody>\n",
       "</table>"
      ],
      "text/plain": [
       "[(6, 'David', 'Blaine', 'Sales', 50000, '2024-03-28', 2),\n",
       " (4, 'Emily', 'Davis', 'Operations', 62000, '2024-04-27', 2),\n",
       " (1, 'John', 'Doe', 'Sales', 50000, '2024-04-23', 3),\n",
       " (7, 'John', 'Doe', 'Marketing', 33000, '2024-05-17', 3),\n",
       " (3, 'Michael', 'Scott', 'Sales', 60000, '2024-04-26', 5),\n",
       " (2, 'Jane', 'Smith', 'Marketing', 55000, '2024-04-25', 4),\n",
       " (5, 'David', 'Wilson', 'Operations', 58000, '2024-04-28', 1)]"
      ]
     },
     "execution_count": 22,
     "metadata": {},
     "output_type": "execute_result"
    }
   ],
   "source": [
    "%%sql\n",
    "\n",
    "-- Sorting By Column Position\n",
    "SELECT * FROM employees\n",
    "ORDER BY 3;"
   ]
  },
  {
   "cell_type": "code",
   "execution_count": 23,
   "metadata": {},
   "outputs": [
    {
     "name": "stdout",
     "output_type": "stream",
     "text": [
      " * sqlite:///sql-methods.db\n",
      "Done.\n",
      "Done.\n"
     ]
    },
    {
     "data": {
      "text/html": [
       "<table>\n",
       "    <thead>\n",
       "        <tr>\n",
       "            <th>first_name</th>\n",
       "            <th>last_name</th>\n",
       "            <th>salary</th>\n",
       "        </tr>\n",
       "    </thead>\n",
       "    <tbody>\n",
       "        <tr>\n",
       "            <td>Emily</td>\n",
       "            <td>Davis</td>\n",
       "            <td>62000</td>\n",
       "        </tr>\n",
       "        <tr>\n",
       "            <td>Michael</td>\n",
       "            <td>Scott</td>\n",
       "            <td>60000</td>\n",
       "        </tr>\n",
       "        <tr>\n",
       "            <td>David</td>\n",
       "            <td>Wilson</td>\n",
       "            <td>58000</td>\n",
       "        </tr>\n",
       "        <tr>\n",
       "            <td>Jane</td>\n",
       "            <td>Smith</td>\n",
       "            <td>55000</td>\n",
       "        </tr>\n",
       "        <tr>\n",
       "            <td>John</td>\n",
       "            <td>Doe</td>\n",
       "            <td>50000</td>\n",
       "        </tr>\n",
       "        <tr>\n",
       "            <td>David</td>\n",
       "            <td>Blaine</td>\n",
       "            <td>50000</td>\n",
       "        </tr>\n",
       "        <tr>\n",
       "            <td>John</td>\n",
       "            <td>Doe</td>\n",
       "            <td>33000</td>\n",
       "        </tr>\n",
       "    </tbody>\n",
       "</table>"
      ],
      "text/plain": [
       "[('Emily', 'Davis', 62000),\n",
       " ('Michael', 'Scott', 60000),\n",
       " ('David', 'Wilson', 58000),\n",
       " ('Jane', 'Smith', 55000),\n",
       " ('John', 'Doe', 50000),\n",
       " ('David', 'Blaine', 50000),\n",
       " ('John', 'Doe', 33000)]"
      ]
     },
     "execution_count": 23,
     "metadata": {},
     "output_type": "execute_result"
    }
   ],
   "source": [
    "%%sql\n",
    "\n",
    "-- Sorting By Column Position\n",
    "SELECT * FROM employees\n",
    "ORDER BY 3;\n",
    "\n",
    "-- Sorting and Changing Column Positions\n",
    "SELECT first_name, last_name, salary FROM employees\n",
    "ORDER BY 3 DESC;"
   ]
  },
  {
   "cell_type": "code",
   "execution_count": 24,
   "metadata": {},
   "outputs": [
    {
     "name": "stdout",
     "output_type": "stream",
     "text": [
      " * sqlite:///sql-methods.db\n",
      "Done.\n"
     ]
    },
    {
     "data": {
      "text/html": [
       "<table>\n",
       "    <thead>\n",
       "        <tr>\n",
       "            <th>employee_id</th>\n",
       "            <th>first_name</th>\n",
       "            <th>last_name</th>\n",
       "            <th>department</th>\n",
       "            <th>salary</th>\n",
       "            <th>hire_date</th>\n",
       "            <th>performance_rating</th>\n",
       "        </tr>\n",
       "    </thead>\n",
       "    <tbody>\n",
       "        <tr>\n",
       "            <td>1</td>\n",
       "            <td>John</td>\n",
       "            <td>Doe</td>\n",
       "            <td>Sales</td>\n",
       "            <td>50000</td>\n",
       "            <td>2024-04-23</td>\n",
       "            <td>3</td>\n",
       "        </tr>\n",
       "        <tr>\n",
       "            <td>5</td>\n",
       "            <td>David</td>\n",
       "            <td>Wilson</td>\n",
       "            <td>Operations</td>\n",
       "            <td>58000</td>\n",
       "            <td>2024-04-28</td>\n",
       "            <td>1</td>\n",
       "        </tr>\n",
       "        <tr>\n",
       "            <td>4</td>\n",
       "            <td>Emily</td>\n",
       "            <td>Davis</td>\n",
       "            <td>Operations</td>\n",
       "            <td>62000</td>\n",
       "            <td>2024-04-27</td>\n",
       "            <td>2</td>\n",
       "        </tr>\n",
       "        <tr>\n",
       "            <td>7</td>\n",
       "            <td>John</td>\n",
       "            <td>Doe</td>\n",
       "            <td>Marketing</td>\n",
       "            <td>33000</td>\n",
       "            <td>2024-05-17</td>\n",
       "            <td>3</td>\n",
       "        </tr>\n",
       "        <tr>\n",
       "            <td>2</td>\n",
       "            <td>Jane</td>\n",
       "            <td>Smith</td>\n",
       "            <td>Marketing</td>\n",
       "            <td>55000</td>\n",
       "            <td>2024-04-25</td>\n",
       "            <td>4</td>\n",
       "        </tr>\n",
       "        <tr>\n",
       "            <td>6</td>\n",
       "            <td>David</td>\n",
       "            <td>Blaine</td>\n",
       "            <td>Sales</td>\n",
       "            <td>50000</td>\n",
       "            <td>2024-03-28</td>\n",
       "            <td>2</td>\n",
       "        </tr>\n",
       "        <tr>\n",
       "            <td>3</td>\n",
       "            <td>Michael</td>\n",
       "            <td>Scott</td>\n",
       "            <td>Sales</td>\n",
       "            <td>60000</td>\n",
       "            <td>2024-04-26</td>\n",
       "            <td>5</td>\n",
       "        </tr>\n",
       "    </tbody>\n",
       "</table>"
      ],
      "text/plain": [
       "[(1, 'John', 'Doe', 'Sales', 50000, '2024-04-23', 3),\n",
       " (5, 'David', 'Wilson', 'Operations', 58000, '2024-04-28', 1),\n",
       " (4, 'Emily', 'Davis', 'Operations', 62000, '2024-04-27', 2),\n",
       " (7, 'John', 'Doe', 'Marketing', 33000, '2024-05-17', 3),\n",
       " (2, 'Jane', 'Smith', 'Marketing', 55000, '2024-04-25', 4),\n",
       " (6, 'David', 'Blaine', 'Sales', 50000, '2024-03-28', 2),\n",
       " (3, 'Michael', 'Scott', 'Sales', 60000, '2024-04-26', 5)]"
      ]
     },
     "execution_count": 24,
     "metadata": {},
     "output_type": "execute_result"
    }
   ],
   "source": [
    "%%sql\n",
    "\n",
    "-- Sorting in Random Order\n",
    "SELECT * FROM employees\n",
    "ORDER BY RANDOM();"
   ]
  },
  {
   "cell_type": "markdown",
   "metadata": {},
   "source": [
    "# GROUP BY\n",
    "\n",
    "The **GROUP BY** clause is used to organize and summarize data by grouping rows with the same values in one or more columns. This helps you analyze trends, patterns, and aggregate statistics within your data.\n",
    "\n",
    "> **Common Aggregate Functions Used with GROUP BY:**\n",
    "```\n",
    "  COUNT(): Counts the number of rows in each group.\n",
    "  SUM(): Calculates the sum of a numeric column for each group.\n",
    "  AVG(): Calculates the average of a numeric column for each group.\n",
    "  MAX(): Returns the maximum value of a column for each group.\n",
    "  MIN(): Returns the minimum value of a column for each group.\n",
    "```"
   ]
  },
  {
   "cell_type": "code",
   "execution_count": 26,
   "metadata": {},
   "outputs": [
    {
     "name": "stdout",
     "output_type": "stream",
     "text": [
      " * sqlite:///sql-methods.db\n",
      "Done.\n",
      "Done.\n",
      "Done.\n",
      "Done.\n"
     ]
    },
    {
     "data": {
      "text/html": [
       "<table>\n",
       "    <thead>\n",
       "        <tr>\n",
       "            <th>department</th>\n",
       "            <th>max_salary</th>\n",
       "            <th>min_salary</th>\n",
       "        </tr>\n",
       "    </thead>\n",
       "    <tbody>\n",
       "        <tr>\n",
       "            <td>Marketing</td>\n",
       "            <td>55000</td>\n",
       "            <td>33000</td>\n",
       "        </tr>\n",
       "        <tr>\n",
       "            <td>Sales</td>\n",
       "            <td>60000</td>\n",
       "            <td>50000</td>\n",
       "        </tr>\n",
       "        <tr>\n",
       "            <td>Operations</td>\n",
       "            <td>62000</td>\n",
       "            <td>58000</td>\n",
       "        </tr>\n",
       "    </tbody>\n",
       "</table>"
      ],
      "text/plain": [
       "[('Marketing', 55000, 33000),\n",
       " ('Sales', 60000, 50000),\n",
       " ('Operations', 62000, 58000)]"
      ]
     },
     "execution_count": 26,
     "metadata": {},
     "output_type": "execute_result"
    }
   ],
   "source": [
    "%%sql\n",
    "\n",
    "-- Grouping with COUNT()\n",
    "SELECT department, COUNT(*) AS employee_count\n",
    "FROM employees\n",
    "GROUP BY department;\n",
    "\n",
    "-- Grouping with SUM()\n",
    "SELECT department, SUM(salary) AS total_salary\n",
    "FROM employees\n",
    "GROUP BY department;\n",
    "\n",
    "-- Grouping with AVG()\n",
    "SELECT department, AVG(salary) AS average_salary\n",
    "FROM employees\n",
    "GROUP BY department;\n",
    "\n",
    "-- Grouping with MAX() and MIN()\n",
    "SELECT department, MAX(salary) AS max_salary, MIN(salary) AS min_salary\n",
    "FROM employees\n",
    "GROUP BY department\n",
    "ORDER BY min_salary;"
   ]
  },
  {
   "cell_type": "markdown",
   "metadata": {},
   "source": [
    "## HAVING\n",
    "\n",
    "The **HAVING** clause is used to filter groups of rows created by the GROUP BY clause based on conditions applied to aggregate functions. This allows you to focus on specific groups that meet certain criteria within your summarized data."
   ]
  },
  {
   "cell_type": "code",
   "execution_count": 27,
   "metadata": {},
   "outputs": [
    {
     "name": "stdout",
     "output_type": "stream",
     "text": [
      " * sqlite:///sql-methods.db\n",
      "Done.\n",
      "Done.\n",
      "Done.\n"
     ]
    },
    {
     "data": {
      "text/html": [
       "<table>\n",
       "    <thead>\n",
       "        <tr>\n",
       "            <th>department</th>\n",
       "            <th>sum_salary</th>\n",
       "            <th>min_salary</th>\n",
       "        </tr>\n",
       "    </thead>\n",
       "    <tbody>\n",
       "        <tr>\n",
       "            <td>Sales</td>\n",
       "            <td>160000</td>\n",
       "            <td>50000</td>\n",
       "        </tr>\n",
       "        <tr>\n",
       "            <td>Marketing</td>\n",
       "            <td>88000</td>\n",
       "            <td>33000</td>\n",
       "        </tr>\n",
       "    </tbody>\n",
       "</table>"
      ],
      "text/plain": [
       "[('Sales', 160000, 50000), ('Marketing', 88000, 33000)]"
      ]
     },
     "execution_count": 27,
     "metadata": {},
     "output_type": "execute_result"
    }
   ],
   "source": [
    "%%sql\n",
    "\n",
    "-- Departments with more than 2 employees\n",
    "SELECT department, COUNT(*) AS employee_count\n",
    "FROM employees\n",
    "GROUP BY department\n",
    "HAVING employee_count > 2;\n",
    "\n",
    "-- Departments with an average salary greater than 50000 and number of employees greater than 2\n",
    "SELECT department, AVG(salary) AS avg_salary, COUNT(*) AS num_employees\n",
    "FROM employees\n",
    "GROUP BY department\n",
    "HAVING avg_salary > 50000 AND num_employees > 2;\n",
    "\n",
    "-- Departments with a salary sum greater than 80000 or min salary < 40000\n",
    "SELECT department, SUM(salary) AS sum_salary, MIN(salary) AS min_salary\n",
    "FROM employees\n",
    "GROUP BY department\n",
    "HAVING sum_salary > 150000 or min_salary < 40000\n",
    "ORDER BY min_salary DESC;"
   ]
  },
  {
   "cell_type": "markdown",
   "metadata": {},
   "source": [
    "# JOIN\n",
    "\n",
    "The JOIN clause is used to combine rows from two or more tables based on a related column between them. It allows you to retrieve data from multiple tables simultaneously, creating a single result set.\n",
    "\n",
    "> **Types of JOINs:**\n",
    "\n",
    "- INNER JOIN: Returns rows where the join condition is met in both tables.\n",
    "- LEFT JOIN: Returns all rows from the left table, and matching rows from the right table.\n",
    "    If there's no match in the right table, NULL values are filled for the right table's columns.\n",
    "- RIGHT JOIN: Returns all rows from the right table, and matching rows from the left table.\n",
    "  If there's no match in the left table, NULL values are filled for the left table's columns.\n",
    "- FULL JOIN: Returns all rows from both tables, regardless of whether there's a match in the join condition.\n",
    "- CROSS JOIN: combines every row from one table with every row from another table, resulting in the Cartesian product of the two tables.\n",
    "  This means it creates a new table containing all possible combinations of rows from the joined tables, regardless of any relationship between them."
   ]
  },
  {
   "cell_type": "markdown",
   "metadata": {},
   "source": [
    "---\n",
    "### Department Table Setup\n",
    "\n",
    "---"
   ]
  },
  {
   "cell_type": "code",
   "execution_count": 28,
   "metadata": {},
   "outputs": [
    {
     "name": "stdout",
     "output_type": "stream",
     "text": [
      " * sqlite:///sql-methods.db\n",
      "Done.\n"
     ]
    },
    {
     "data": {
      "text/plain": [
       "[]"
      ]
     },
     "execution_count": 28,
     "metadata": {},
     "output_type": "execute_result"
    }
   ],
   "source": [
    "%%sql\n",
    "CREATE TABLE departments (\n",
    "    department_id INTEGER PRIMARY KEY AUTOINCREMENT,\n",
    "    department_name VARCHAR(50) NOT NULL\n",
    ");"
   ]
  },
  {
   "cell_type": "code",
   "execution_count": 29,
   "metadata": {},
   "outputs": [
    {
     "name": "stdout",
     "output_type": "stream",
     "text": [
      " * sqlite:///sql-methods.db\n",
      "Done.\n"
     ]
    },
    {
     "data": {
      "text/html": [
       "<table>\n",
       "    <thead>\n",
       "        <tr>\n",
       "            <th>name</th>\n",
       "        </tr>\n",
       "    </thead>\n",
       "    <tbody>\n",
       "        <tr>\n",
       "            <td>employees</td>\n",
       "        </tr>\n",
       "        <tr>\n",
       "            <td>sqlite_sequence</td>\n",
       "        </tr>\n",
       "        <tr>\n",
       "            <td>departments</td>\n",
       "        </tr>\n",
       "    </tbody>\n",
       "</table>"
      ],
      "text/plain": [
       "[('employees',), ('sqlite_sequence',), ('departments',)]"
      ]
     },
     "execution_count": 29,
     "metadata": {},
     "output_type": "execute_result"
    }
   ],
   "source": [
    "%sql SELECT name FROM sqlite_master WHERE type='table';"
   ]
  },
  {
   "cell_type": "code",
   "execution_count": 30,
   "metadata": {},
   "outputs": [
    {
     "name": "stdout",
     "output_type": "stream",
     "text": [
      " * sqlite:///sql-methods.db\n",
      "5 rows affected.\n"
     ]
    },
    {
     "data": {
      "text/plain": [
       "[]"
      ]
     },
     "execution_count": 30,
     "metadata": {},
     "output_type": "execute_result"
    }
   ],
   "source": [
    "%%sql\n",
    "\n",
    "INSERT INTO departments (department_name)\n",
    "VALUES ('HR'), ('Marketing'), ('Sales'), ('IT'), ('Finance');"
   ]
  },
  {
   "cell_type": "code",
   "execution_count": 32,
   "metadata": {},
   "outputs": [
    {
     "name": "stdout",
     "output_type": "stream",
     "text": [
      " * sqlite:///sql-methods.db\n",
      "Done.\n"
     ]
    },
    {
     "data": {
      "text/html": [
       "<table>\n",
       "    <thead>\n",
       "        <tr>\n",
       "            <th>department_id</th>\n",
       "            <th>department_name</th>\n",
       "        </tr>\n",
       "    </thead>\n",
       "    <tbody>\n",
       "        <tr>\n",
       "            <td>1</td>\n",
       "            <td>HR</td>\n",
       "        </tr>\n",
       "        <tr>\n",
       "            <td>2</td>\n",
       "            <td>Marketing</td>\n",
       "        </tr>\n",
       "        <tr>\n",
       "            <td>3</td>\n",
       "            <td>Sales</td>\n",
       "        </tr>\n",
       "        <tr>\n",
       "            <td>4</td>\n",
       "            <td>IT</td>\n",
       "        </tr>\n",
       "        <tr>\n",
       "            <td>5</td>\n",
       "            <td>Finance</td>\n",
       "        </tr>\n",
       "    </tbody>\n",
       "</table>"
      ],
      "text/plain": [
       "[(1, 'HR'), (2, 'Marketing'), (3, 'Sales'), (4, 'IT'), (5, 'Finance')]"
      ]
     },
     "execution_count": 32,
     "metadata": {},
     "output_type": "execute_result"
    }
   ],
   "source": [
    "%sql SELECT * FROM departments;"
   ]
  },
  {
   "cell_type": "code",
   "execution_count": 33,
   "metadata": {},
   "outputs": [
    {
     "name": "stdout",
     "output_type": "stream",
     "text": [
      " * sqlite:///sql-methods.db\n",
      "Done.\n",
      "Done.\n",
      "Done.\n",
      "Done.\n",
      "Done.\n"
     ]
    },
    {
     "data": {
      "text/html": [
       "<table>\n",
       "    <thead>\n",
       "        <tr>\n",
       "            <th>employee_id</th>\n",
       "            <th>first_name</th>\n",
       "            <th>last_name</th>\n",
       "            <th>department_name</th>\n",
       "        </tr>\n",
       "    </thead>\n",
       "    <tbody>\n",
       "        <tr>\n",
       "            <td>1</td>\n",
       "            <td>John</td>\n",
       "            <td>Doe</td>\n",
       "            <td>HR</td>\n",
       "        </tr>\n",
       "        <tr>\n",
       "            <td>1</td>\n",
       "            <td>John</td>\n",
       "            <td>Doe</td>\n",
       "            <td>Marketing</td>\n",
       "        </tr>\n",
       "        <tr>\n",
       "            <td>1</td>\n",
       "            <td>John</td>\n",
       "            <td>Doe</td>\n",
       "            <td>Sales</td>\n",
       "        </tr>\n",
       "        <tr>\n",
       "            <td>1</td>\n",
       "            <td>John</td>\n",
       "            <td>Doe</td>\n",
       "            <td>IT</td>\n",
       "        </tr>\n",
       "        <tr>\n",
       "            <td>1</td>\n",
       "            <td>John</td>\n",
       "            <td>Doe</td>\n",
       "            <td>Finance</td>\n",
       "        </tr>\n",
       "        <tr>\n",
       "            <td>2</td>\n",
       "            <td>Jane</td>\n",
       "            <td>Smith</td>\n",
       "            <td>HR</td>\n",
       "        </tr>\n",
       "        <tr>\n",
       "            <td>2</td>\n",
       "            <td>Jane</td>\n",
       "            <td>Smith</td>\n",
       "            <td>Marketing</td>\n",
       "        </tr>\n",
       "        <tr>\n",
       "            <td>2</td>\n",
       "            <td>Jane</td>\n",
       "            <td>Smith</td>\n",
       "            <td>Sales</td>\n",
       "        </tr>\n",
       "        <tr>\n",
       "            <td>2</td>\n",
       "            <td>Jane</td>\n",
       "            <td>Smith</td>\n",
       "            <td>IT</td>\n",
       "        </tr>\n",
       "        <tr>\n",
       "            <td>2</td>\n",
       "            <td>Jane</td>\n",
       "            <td>Smith</td>\n",
       "            <td>Finance</td>\n",
       "        </tr>\n",
       "        <tr>\n",
       "            <td>3</td>\n",
       "            <td>Michael</td>\n",
       "            <td>Scott</td>\n",
       "            <td>HR</td>\n",
       "        </tr>\n",
       "        <tr>\n",
       "            <td>3</td>\n",
       "            <td>Michael</td>\n",
       "            <td>Scott</td>\n",
       "            <td>Marketing</td>\n",
       "        </tr>\n",
       "        <tr>\n",
       "            <td>3</td>\n",
       "            <td>Michael</td>\n",
       "            <td>Scott</td>\n",
       "            <td>Sales</td>\n",
       "        </tr>\n",
       "        <tr>\n",
       "            <td>3</td>\n",
       "            <td>Michael</td>\n",
       "            <td>Scott</td>\n",
       "            <td>IT</td>\n",
       "        </tr>\n",
       "        <tr>\n",
       "            <td>3</td>\n",
       "            <td>Michael</td>\n",
       "            <td>Scott</td>\n",
       "            <td>Finance</td>\n",
       "        </tr>\n",
       "        <tr>\n",
       "            <td>4</td>\n",
       "            <td>Emily</td>\n",
       "            <td>Davis</td>\n",
       "            <td>HR</td>\n",
       "        </tr>\n",
       "        <tr>\n",
       "            <td>4</td>\n",
       "            <td>Emily</td>\n",
       "            <td>Davis</td>\n",
       "            <td>Marketing</td>\n",
       "        </tr>\n",
       "        <tr>\n",
       "            <td>4</td>\n",
       "            <td>Emily</td>\n",
       "            <td>Davis</td>\n",
       "            <td>Sales</td>\n",
       "        </tr>\n",
       "        <tr>\n",
       "            <td>4</td>\n",
       "            <td>Emily</td>\n",
       "            <td>Davis</td>\n",
       "            <td>IT</td>\n",
       "        </tr>\n",
       "        <tr>\n",
       "            <td>4</td>\n",
       "            <td>Emily</td>\n",
       "            <td>Davis</td>\n",
       "            <td>Finance</td>\n",
       "        </tr>\n",
       "        <tr>\n",
       "            <td>5</td>\n",
       "            <td>David</td>\n",
       "            <td>Wilson</td>\n",
       "            <td>HR</td>\n",
       "        </tr>\n",
       "        <tr>\n",
       "            <td>5</td>\n",
       "            <td>David</td>\n",
       "            <td>Wilson</td>\n",
       "            <td>Marketing</td>\n",
       "        </tr>\n",
       "        <tr>\n",
       "            <td>5</td>\n",
       "            <td>David</td>\n",
       "            <td>Wilson</td>\n",
       "            <td>Sales</td>\n",
       "        </tr>\n",
       "        <tr>\n",
       "            <td>5</td>\n",
       "            <td>David</td>\n",
       "            <td>Wilson</td>\n",
       "            <td>IT</td>\n",
       "        </tr>\n",
       "        <tr>\n",
       "            <td>5</td>\n",
       "            <td>David</td>\n",
       "            <td>Wilson</td>\n",
       "            <td>Finance</td>\n",
       "        </tr>\n",
       "        <tr>\n",
       "            <td>6</td>\n",
       "            <td>David</td>\n",
       "            <td>Blaine</td>\n",
       "            <td>HR</td>\n",
       "        </tr>\n",
       "        <tr>\n",
       "            <td>6</td>\n",
       "            <td>David</td>\n",
       "            <td>Blaine</td>\n",
       "            <td>Marketing</td>\n",
       "        </tr>\n",
       "        <tr>\n",
       "            <td>6</td>\n",
       "            <td>David</td>\n",
       "            <td>Blaine</td>\n",
       "            <td>Sales</td>\n",
       "        </tr>\n",
       "        <tr>\n",
       "            <td>6</td>\n",
       "            <td>David</td>\n",
       "            <td>Blaine</td>\n",
       "            <td>IT</td>\n",
       "        </tr>\n",
       "        <tr>\n",
       "            <td>6</td>\n",
       "            <td>David</td>\n",
       "            <td>Blaine</td>\n",
       "            <td>Finance</td>\n",
       "        </tr>\n",
       "        <tr>\n",
       "            <td>7</td>\n",
       "            <td>John</td>\n",
       "            <td>Doe</td>\n",
       "            <td>HR</td>\n",
       "        </tr>\n",
       "        <tr>\n",
       "            <td>7</td>\n",
       "            <td>John</td>\n",
       "            <td>Doe</td>\n",
       "            <td>Marketing</td>\n",
       "        </tr>\n",
       "        <tr>\n",
       "            <td>7</td>\n",
       "            <td>John</td>\n",
       "            <td>Doe</td>\n",
       "            <td>Sales</td>\n",
       "        </tr>\n",
       "        <tr>\n",
       "            <td>7</td>\n",
       "            <td>John</td>\n",
       "            <td>Doe</td>\n",
       "            <td>IT</td>\n",
       "        </tr>\n",
       "        <tr>\n",
       "            <td>7</td>\n",
       "            <td>John</td>\n",
       "            <td>Doe</td>\n",
       "            <td>Finance</td>\n",
       "        </tr>\n",
       "    </tbody>\n",
       "</table>"
      ],
      "text/plain": [
       "[(1, 'John', 'Doe', 'HR'),\n",
       " (1, 'John', 'Doe', 'Marketing'),\n",
       " (1, 'John', 'Doe', 'Sales'),\n",
       " (1, 'John', 'Doe', 'IT'),\n",
       " (1, 'John', 'Doe', 'Finance'),\n",
       " (2, 'Jane', 'Smith', 'HR'),\n",
       " (2, 'Jane', 'Smith', 'Marketing'),\n",
       " (2, 'Jane', 'Smith', 'Sales'),\n",
       " (2, 'Jane', 'Smith', 'IT'),\n",
       " (2, 'Jane', 'Smith', 'Finance'),\n",
       " (3, 'Michael', 'Scott', 'HR'),\n",
       " (3, 'Michael', 'Scott', 'Marketing'),\n",
       " (3, 'Michael', 'Scott', 'Sales'),\n",
       " (3, 'Michael', 'Scott', 'IT'),\n",
       " (3, 'Michael', 'Scott', 'Finance'),\n",
       " (4, 'Emily', 'Davis', 'HR'),\n",
       " (4, 'Emily', 'Davis', 'Marketing'),\n",
       " (4, 'Emily', 'Davis', 'Sales'),\n",
       " (4, 'Emily', 'Davis', 'IT'),\n",
       " (4, 'Emily', 'Davis', 'Finance'),\n",
       " (5, 'David', 'Wilson', 'HR'),\n",
       " (5, 'David', 'Wilson', 'Marketing'),\n",
       " (5, 'David', 'Wilson', 'Sales'),\n",
       " (5, 'David', 'Wilson', 'IT'),\n",
       " (5, 'David', 'Wilson', 'Finance'),\n",
       " (6, 'David', 'Blaine', 'HR'),\n",
       " (6, 'David', 'Blaine', 'Marketing'),\n",
       " (6, 'David', 'Blaine', 'Sales'),\n",
       " (6, 'David', 'Blaine', 'IT'),\n",
       " (6, 'David', 'Blaine', 'Finance'),\n",
       " (7, 'John', 'Doe', 'HR'),\n",
       " (7, 'John', 'Doe', 'Marketing'),\n",
       " (7, 'John', 'Doe', 'Sales'),\n",
       " (7, 'John', 'Doe', 'IT'),\n",
       " (7, 'John', 'Doe', 'Finance')]"
      ]
     },
     "execution_count": 33,
     "metadata": {},
     "output_type": "execute_result"
    }
   ],
   "source": [
    "%%sql\n",
    "\n",
    "-- Types of Joins\n",
    "\n",
    "-- Inner Join (Condition for both Table A and Table B)\n",
    "SELECT employee_id, first_name, last_name, department_name \n",
    "FROM employees\n",
    "INNER JOIN departments ON department = department_name;\n",
    "\n",
    "-- Left Join (Gets all of Table A, Table B is still filtered)\n",
    "SELECT employee_id, first_name, last_name, department_name \n",
    "FROM employees\n",
    "LEFT JOIN departments ON department_name = department;\n",
    "\n",
    "-- Right Join (Gets all of Table B, Table A is still filtered)\n",
    "SELECT employee_id, first_name, last_name, department_name \n",
    "FROM employees\n",
    "RIGHT JOIN departments ON department_name = department;\n",
    "\n",
    "-- Full Join (Gets all of Table A and Table B)\n",
    "SELECT employee_id, first_name, last_name, department_name\n",
    "FROM employees\n",
    "FULL JOIN departments ON department_name = department;\n",
    "\n",
    "-- Cross Join (Gets all possible combinations/relationships)\n",
    "SELECT employee_id, first_name, last_name, department_name\n",
    "FROM employees\n",
    "CROSS JOIN departments;"
   ]
  },
  {
   "cell_type": "markdown",
   "metadata": {},
   "source": [
    "## CASE...WHEN\n",
    "\n",
    "The **CASE...WHEN** statement allows you to conditionally assign values to a column based on specific criteria. It's like creating an if-else logic within your SQL query."
   ]
  },
  {
   "cell_type": "code",
   "execution_count": 34,
   "metadata": {},
   "outputs": [
    {
     "name": "stdout",
     "output_type": "stream",
     "text": [
      " * sqlite:///sql-methods.db\n",
      "Done.\n"
     ]
    },
    {
     "data": {
      "text/html": [
       "<table>\n",
       "    <thead>\n",
       "        <tr>\n",
       "            <th>first_name</th>\n",
       "            <th>last_name</th>\n",
       "            <th>salary</th>\n",
       "            <th>salary_category</th>\n",
       "        </tr>\n",
       "    </thead>\n",
       "    <tbody>\n",
       "        <tr>\n",
       "            <td>John</td>\n",
       "            <td>Doe</td>\n",
       "            <td>50000</td>\n",
       "            <td>Mid Salary</td>\n",
       "        </tr>\n",
       "        <tr>\n",
       "            <td>Jane</td>\n",
       "            <td>Smith</td>\n",
       "            <td>55000</td>\n",
       "            <td>Mid Salary</td>\n",
       "        </tr>\n",
       "        <tr>\n",
       "            <td>Michael</td>\n",
       "            <td>Scott</td>\n",
       "            <td>60000</td>\n",
       "            <td>High Salary</td>\n",
       "        </tr>\n",
       "        <tr>\n",
       "            <td>Emily</td>\n",
       "            <td>Davis</td>\n",
       "            <td>62000</td>\n",
       "            <td>High Salary</td>\n",
       "        </tr>\n",
       "        <tr>\n",
       "            <td>David</td>\n",
       "            <td>Wilson</td>\n",
       "            <td>58000</td>\n",
       "            <td>Mid Salary</td>\n",
       "        </tr>\n",
       "        <tr>\n",
       "            <td>David</td>\n",
       "            <td>Blaine</td>\n",
       "            <td>50000</td>\n",
       "            <td>Mid Salary</td>\n",
       "        </tr>\n",
       "        <tr>\n",
       "            <td>John</td>\n",
       "            <td>Doe</td>\n",
       "            <td>33000</td>\n",
       "            <td>Low Salary</td>\n",
       "        </tr>\n",
       "    </tbody>\n",
       "</table>"
      ],
      "text/plain": [
       "[('John', 'Doe', 50000, 'Mid Salary'),\n",
       " ('Jane', 'Smith', 55000, 'Mid Salary'),\n",
       " ('Michael', 'Scott', 60000, 'High Salary'),\n",
       " ('Emily', 'Davis', 62000, 'High Salary'),\n",
       " ('David', 'Wilson', 58000, 'Mid Salary'),\n",
       " ('David', 'Blaine', 50000, 'Mid Salary'),\n",
       " ('John', 'Doe', 33000, 'Low Salary')]"
      ]
     },
     "execution_count": 34,
     "metadata": {},
     "output_type": "execute_result"
    }
   ],
   "source": [
    "%%sql\n",
    "\n",
    "SELECT first_name, last_name, salary,\n",
    "    CASE WHEN salary >= 60000 THEN 'High Salary'\n",
    "         WHEN salary >= 50000 THEN 'Mid Salary'\n",
    "         ELSE 'Low Salary'\n",
    "    END AS salary_category\n",
    "FROM employees;"
   ]
  },
  {
   "cell_type": "code",
   "execution_count": null,
   "metadata": {},
   "outputs": [],
   "source": []
  }
 ],
 "metadata": {
  "kernelspec": {
   "display_name": "venv",
   "language": "python",
   "name": "python3"
  },
  "language_info": {
   "codemirror_mode": {
    "name": "ipython",
    "version": 3
   },
   "file_extension": ".py",
   "mimetype": "text/x-python",
   "name": "python",
   "nbconvert_exporter": "python",
   "pygments_lexer": "ipython3",
   "version": "3.12.4"
  }
 },
 "nbformat": 4,
 "nbformat_minor": 2
}
