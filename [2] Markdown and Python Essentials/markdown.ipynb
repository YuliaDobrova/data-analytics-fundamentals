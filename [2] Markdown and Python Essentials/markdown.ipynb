{
 "cells": [
  {
   "cell_type": "markdown",
   "metadata": {},
   "source": [
    "## Keyboard Shortcuts (shift + enter)"
   ]
  },
  {
   "cell_type": "code",
   "execution_count": null,
   "metadata": {
    "vscode": {
     "languageId": "plaintext"
    }
   },
   "outputs": [],
   "source": []
  },
  {
   "cell_type": "markdown",
   "metadata": {},
   "source": [
    "- **Shift + Enter**: Execute the current cell and move to the next one.\n",
    "- **Ctrl + Enter**: Execute the current cell and remain in the same cell.\n",
    "- **Esc**: Enter command mode, allowing for navigation and execution commands.\n",
    "- **Enter**: Enter edit mode for the currently selected cell.\n",
    "- **A (in command mode)**: Insert a new cell above the current cell.\n",
    "- **B (in command mode)**: Insert a new cell below the current cell.\n",
    "- **M (in command mode)**: Change the current cell to a Markdown cell.\n",
    "- **Y (in command mode)**: Change the current cell to a Code cell."
   ]
  },
  {
   "cell_type": "code",
   "execution_count": null,
   "metadata": {},
   "outputs": [],
   "source": [
    "print('Hello World!')"
   ]
  },
  {
   "cell_type": "markdown",
   "metadata": {},
   "source": [
    "### Basic Markdown Syntax"
   ]
  },
  {
   "cell_type": "markdown",
   "metadata": {},
   "source": [
    "# Heading 1 - Titles\n",
    "## Heading 2 - Subtitles\n",
    "### Heading 3 - Subheadings\n",
    "#### Heading 4 - 4th level subheading\n",
    "##### Heading 5 - 5th level subheading\n",
    "###### Heading 6 - 6th level subheading"
   ]
  },
  {
   "cell_type": "markdown",
   "metadata": {},
   "source": [
    "### Text Formatting"
   ]
  },
  {
   "cell_type": "markdown",
   "metadata": {},
   "source": [
    "#### Bold\n",
    "- (** **)\n",
    "- (__ __)\n",
    "\n",
    "this is **important**\n",
    "\n",
    "this is __important__"
   ]
  },
  {
   "cell_type": "markdown",
   "metadata": {},
   "source": [
    "#### Italic\n",
    "- (* *)\n",
    "- (_ _)\n",
    "\n",
    "we need to *emphasize this.*\n",
    "\n",
    "we need to _emphasize this._"
   ]
  },
  {
   "cell_type": "markdown",
   "metadata": {},
   "source": [
    "#### Strikethrough\n",
    "- (~~ ~~)\n",
    "\n",
    "~~$500~~  $300"
   ]
  },
  {
   "cell_type": "markdown",
   "metadata": {},
   "source": [
    "#### Superscript and Subscript\n",
    "- <sup></sup> superscript\n",
    "- <sub></sub> subscript\n",
    "\n",
    "2<sup>2</sup> = 4\n",
    "\n",
    "H<sub>2</sub>0"
   ]
  },
  {
   "cell_type": "markdown",
   "metadata": {},
   "source": [
    "#### Inline Code\n",
    "- (``)\n",
    "\n",
    "`print(\"Hello World)` - will print Hello World"
   ]
  },
  {
   "cell_type": "markdown",
   "metadata": {},
   "source": []
  },
  {
   "cell_type": "markdown",
   "metadata": {},
   "source": [
    "#### Blockqoutes\n",
    "(> )\n",
    "\n",
    "> Time is gold. - Unknown"
   ]
  },
  {
   "cell_type": "markdown",
   "metadata": {},
   "source": [
    "#### Horizontal Rules\n",
    "- (---) \n",
    "- (***)\n",
    "- (___)\n",
    "---\n",
    "***\n",
    "___"
   ]
  },
  {
   "cell_type": "markdown",
   "metadata": {},
   "source": [
    "#### Lists\n",
    "\n",
    "##### Ordered List\n",
    "1. Step 1\n",
    "2. Step 2\n",
    "3. Step 3\n",
    "\n",
    "##### Unordered List\n",
    "- Banana\n",
    "- Watermelon\n",
    "* Apple\n",
    "+ Lemon\n",
    "\n",
    "##### Nested List\n",
    "1. Step 1\n",
    "    - Cook the rice\n",
    "    - Fry the eggs\n",
    "2. Step 2\n",
    "    - Prepare the table\n"
   ]
  },
  {
   "cell_type": "markdown",
   "metadata": {},
   "source": [
    "#### Links\n",
    "[word](link to embed)\n",
    "\n",
    "[Google](https://www.google.com)"
   ]
  },
  {
   "cell_type": "markdown",
   "metadata": {},
   "source": [
    "#### Images\n",
    "\n",
    "[]() = Link\n",
    "![]() = Image\n",
    "\n",
    "![alt text](https://cdn.icon-icons.com/icons2/2699/PNG/512/jupyter_logo_icon_169453.png)\n",
    "\n",
    "![jupyter icon](https://cdn.i/icons2/2699/PNG/512/jupyter_logo_icon_169453.png)\n"
   ]
  },
  {
   "cell_type": "markdown",
   "metadata": {},
   "source": [
    "#### Tables\n",
    "1. Headers: Headers are defined by using a pipe symbol (|) to separate columns and hyphens (-) to separate the header row from the content rows. Each column's width is determined by the width of the content within it.\n",
    "2. Content Rows: Content rows follow the same format as the header row. Each cell's content is separated by pipe symbols (|).\n",
    "3. Formatting: You can include basic formatting within cells, such as italics, bold, or links, just like in regular Markdown text.\n",
    "\n",
    "| Person | Favorite Color | Favorite Meal     |\n",
    "|--------|----------------|-------------------|\n",
    "|Shannon | Red            | Curry Chicken     |\n",
    "|David   | Blue           |Hamburger and Steak|\n",
    "|Troy    | Magenta        |Onion              |"
   ]
  }
 ],
 "metadata": {
  "language_info": {
   "name": "python"
  }
 },
 "nbformat": 4,
 "nbformat_minor": 2
}
