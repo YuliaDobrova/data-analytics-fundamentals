{
 "cells": [
  {
   "cell_type": "markdown",
   "metadata": {
    "vscode": {
     "languageId": "plaintext"
    }
   },
   "source": [
    "cmd + J   ---> open terminal"
   ]
  },
  {
   "cell_type": "markdown",
   "metadata": {},
   "source": [
    "Virtual environments (venv) is dependencies dedicated to that specific folder, so you can have a CONTAINED installation area.\n",
    "\n",
    "Great for pushing and keeping clean, so other libraries you have installed don't get mixed up with the project requirements. 😄"
   ]
  },
  {
   "cell_type": "markdown",
   "metadata": {},
   "source": [
    "source venv/bin/activate - FOR MACBOOK"
   ]
  },
  {
   "cell_type": "markdown",
   "metadata": {},
   "source": [
    "Kernel = what will process/run our code (aka: the python interpreter)"
   ]
  },
  {
   "cell_type": "markdown",
   "metadata": {},
   "source": [
    "Open terminal  --->  ctrl + J or  cmd + J  (MAC)\n",
    "* `python --version`\n",
    "* `python -m pip freeze`\n",
    "* `py -m venv venv`\n",
    "* `venv/Scripts/activate` (for windows)\n",
    "* `source activate` or `source venv/bin/activate` (for Mac)\n",
    "- if previous command didn't work, run:\n",
    " \n",
    "   `Set-ExecutionPolicy -ExecutionPolicy RemoteSigned -Scope CurrentUser`\n",
    "- run `venv/Scripts/activate` (for windows) or `source activate` (for Mac) again\n",
    "* Select Kernel > Python Environments > venv\n"
   ]
  },
  {
   "cell_type": "code",
   "execution_count": 2,
   "metadata": {},
   "outputs": [],
   "source": [
    "# Single-line comment"
   ]
  },
  {
   "cell_type": "code",
   "execution_count": 4,
   "metadata": {},
   "outputs": [
    {
     "data": {
      "text/plain": [
       "'\\nTHis is\\nmultiline \\ncomments\\n'"
      ]
     },
     "execution_count": 4,
     "metadata": {},
     "output_type": "execute_result"
    }
   ],
   "source": [
    "\"\"\"\n",
    "THis is\n",
    "multiline \n",
    "comments\n",
    "\"\"\""
   ]
  },
  {
   "cell_type": "markdown",
   "metadata": {},
   "source": [
    "Multiline comments (aka: docstrings) are like strings that don't show errors. They serve as great documentation for functions, or for making comments span multiple lines. 👍"
   ]
  },
  {
   "cell_type": "code",
   "execution_count": 5,
   "metadata": {},
   "outputs": [],
   "source": [
    "x = 5 #this is an inline comment"
   ]
  },
  {
   "cell_type": "markdown",
   "metadata": {},
   "source": [
    "## Python Variables\n",
    "**Creating Variables**\n",
    "Creating a variable in Python is simple. You assign a value to a variable name and start using it. Python figures out the variable type automatically.\n",
    "**Variable Naming Rules**\n",
    "- Variable names can contain letters (both uppercase and lowercase), digits, and underscores.\n",
    "- They must begin with a letter or an underscore (_), but not with a digit.\n",
    "- Case sensitive (myVar and myvar are different variables)\n",
    "- Python keywords cannot be used as variable names.\n"
   ]
  },
  {
   "cell_type": "code",
   "execution_count": null,
   "metadata": {},
   "outputs": [],
   "source": [
    "x = 5\n",
    "my_number = 1\n",
    "print('Hello')"
   ]
  },
  {
   "cell_type": "code",
   "execution_count": null,
   "metadata": {},
   "outputs": [],
   "source": [
    "# x - 2 = 10 #expressions can't be variable names\n",
    "# 2_b = 10\n"
   ]
  },
  {
   "cell_type": "code",
   "execution_count": 6,
   "metadata": {},
   "outputs": [
    {
     "ename": "SyntaxError",
     "evalue": "cannot assign to True (922659677.py, line 1)",
     "output_type": "error",
     "traceback": [
      "\u001b[0;36m  Cell \u001b[0;32mIn[6], line 1\u001b[0;36m\u001b[0m\n\u001b[0;31m    True = 5\u001b[0m\n\u001b[0m    ^\u001b[0m\n\u001b[0;31mSyntaxError\u001b[0m\u001b[0;31m:\u001b[0m cannot assign to True\n"
     ]
    }
   ],
   "source": [
    "True = 5"
   ]
  },
  {
   "cell_type": "markdown",
   "metadata": {},
   "source": [
    "## Data Types\n",
    "### Numeric Types\n",
    "**int** - Integer values, such as `5`, `-3`, `1000`, etc.\n",
    "**float**: Floating-point values, representing decimal numbers, such as `3.14`, `-0.001`, `2.0`, etc."
   ]
  },
  {
   "cell_type": "code",
   "execution_count": 7,
   "metadata": {},
   "outputs": [
    {
     "name": "stdout",
     "output_type": "stream",
     "text": [
      "5\n",
      "-20\n"
     ]
    }
   ],
   "source": [
    "integer_number = 5\n",
    "negative_int = -20\n",
    "print(integer_number)\n",
    "print(negative_int)"
   ]
  },
  {
   "cell_type": "code",
   "execution_count": 8,
   "metadata": {},
   "outputs": [
    {
     "name": "stdout",
     "output_type": "stream",
     "text": [
      "Type of integer number:  <class 'int'>\n"
     ]
    }
   ],
   "source": [
    "print(\"Type of integer number: \", type(integer_number))"
   ]
  },
  {
   "cell_type": "code",
   "execution_count": 9,
   "metadata": {},
   "outputs": [
    {
     "name": "stdout",
     "output_type": "stream",
     "text": [
      "3.14\n",
      "-20.45\n"
     ]
    }
   ],
   "source": [
    "float_number = 3.14\n",
    "negative_float = -20.45\n",
    "print(float_number)\n",
    "print(negative_float)"
   ]
  },
  {
   "cell_type": "code",
   "execution_count": 10,
   "metadata": {},
   "outputs": [
    {
     "name": "stdout",
     "output_type": "stream",
     "text": [
      "Type of float number: <class 'float'>\n"
     ]
    }
   ],
   "source": [
    "print(\"Type of float number:\", type(float_number))"
   ]
  },
  {
   "cell_type": "markdown",
   "metadata": {},
   "source": [
    "## Sequence Types ##\n",
    "1. **String**: String values, representing text or characters, such as 'hello', \"world\", '123', etc."
   ]
  },
  {
   "cell_type": "code",
   "execution_count": 13,
   "metadata": {},
   "outputs": [
    {
     "name": "stdout",
     "output_type": "stream",
     "text": [
      "User123\n",
      "H\n",
      "d\n",
      "<class 'str'>\n"
     ]
    }
   ],
   "source": [
    "str1 = \"Hello World\"\n",
    "str2 = 'Hello Python'\n",
    "user = 'User123'\n",
    "print(user)\n",
    "\n",
    "#string index starts at 0\n",
    "print(str1[0])\n",
    "print(str1[-1])\n",
    "\n",
    "print(type(str1))"
   ]
  },
  {
   "cell_type": "markdown",
   "metadata": {},
   "source": [
    "2. **Lists**: Lists are used when you need a collection of elements that can be modified or reordered. They are suitable for sequences of items of the same type or different types."
   ]
  },
  {
   "cell_type": "code",
   "execution_count": 18,
   "metadata": {},
   "outputs": [
    {
     "name": "stdout",
     "output_type": "stream",
     "text": [
      "[1, 2, 3, 4, 5]\n",
      "['Troy', 'Shanon', 'Rachel']\n",
      "1\n",
      "Shanon\n",
      "['Cheng', 'Shanon', 'Rachel']\n"
     ]
    }
   ],
   "source": [
    "numbers = [1,2,3,4,5] #list of ints\n",
    "names = [\"Troy\", \"Shanon\", \"Rachel\"] #list of strings\n",
    "\n",
    "print(numbers)\n",
    "print(names)\n",
    "\n",
    "#List indexing\n",
    "print(numbers[0])\n",
    "print(names[1])\n",
    "names[0] = \"Cheng\"\n",
    "print(names)\n"
   ]
  },
  {
   "cell_type": "markdown",
   "metadata": {},
   "source": [
    "3. **Tuple**: Tuples are used when you want to store a fixed collection of elements that should not be changed. They are often used for immutable sequences, such as coordinates, database records, or function return values."
   ]
  },
  {
   "cell_type": "code",
   "execution_count": 20,
   "metadata": {},
   "outputs": [
    {
     "name": "stdout",
     "output_type": "stream",
     "text": [
      "(1, '', 3.14)\n"
     ]
    },
    {
     "ename": "TypeError",
     "evalue": "'tuple' object does not support item assignment",
     "output_type": "error",
     "traceback": [
      "\u001b[0;31m---------------------------------------------------------------------------\u001b[0m",
      "\u001b[0;31mTypeError\u001b[0m                                 Traceback (most recent call last)",
      "Cell \u001b[0;32mIn[20], line 4\u001b[0m\n\u001b[1;32m      1\u001b[0m tuple_values \u001b[38;5;241m=\u001b[39m (\u001b[38;5;241m1\u001b[39m, \u001b[38;5;124m'\u001b[39m\u001b[38;5;124m'\u001b[39m, \u001b[38;5;241m3.14\u001b[39m)\n\u001b[1;32m      2\u001b[0m \u001b[38;5;28mprint\u001b[39m(tuple_values)\n\u001b[0;32m----> 4\u001b[0m \u001b[43mtuple_values\u001b[49m\u001b[43m[\u001b[49m\u001b[38;5;241;43m0\u001b[39;49m\u001b[43m]\u001b[49m \u001b[38;5;241m=\u001b[39m \u001b[38;5;241m2\u001b[39m\n\u001b[1;32m      5\u001b[0m \u001b[38;5;28mprint\u001b[39m(tuple_values)\n",
      "\u001b[0;31mTypeError\u001b[0m: 'tuple' object does not support item assignment"
     ]
    }
   ],
   "source": [
    "tuple_values = (1, '', 3.14)\n",
    "print(tuple_values)\n",
    "\n",
    "tuple_values[0] = 2\n",
    "print(tuple_values)"
   ]
  },
  {
   "cell_type": "markdown",
   "metadata": {},
   "source": [
    "**Dictionaries**:  Dictionaries are used when you need to associate keys with values for efficient lookup. They are suitable for representing data with key-value relationships, such as mappings, configurations, or database records indexed by unique keys."
   ]
  },
  {
   "cell_type": "code",
   "execution_count": 22,
   "metadata": {},
   "outputs": [
    {
     "name": "stdout",
     "output_type": "stream",
     "text": [
      "{'name': 'Vadim', 'age': 20}\n",
      "20\n"
     ]
    }
   ],
   "source": [
    "person = {\"name\":\"Vadim\", \"age\":20}\n",
    "print(person)\n",
    "print(person[\"age\"])"
   ]
  },
  {
   "cell_type": "markdown",
   "metadata": {},
   "source": []
  },
  {
   "cell_type": "markdown",
   "metadata": {},
   "source": [
    "### Boolean Type:\n",
    "**bool**: Boolean values representing True or False."
   ]
  },
  {
   "cell_type": "code",
   "execution_count": 23,
   "metadata": {},
   "outputs": [
    {
     "name": "stdout",
     "output_type": "stream",
     "text": [
      "True\n",
      "False\n",
      "<class 'bool'>\n",
      "<class 'bool'>\n"
     ]
    }
   ],
   "source": [
    "is_valid = True\n",
    "is_admin = False\n",
    "print(is_valid)\n",
    "print(is_admin)\n",
    "print(type(is_valid))\n",
    "print(type(is_admin))\n"
   ]
  },
  {
   "cell_type": "markdown",
   "metadata": {},
   "source": [
    "**Dynamic Typing**\n",
    "Variables can change type after they have been set. This is known as dynamic typing."
   ]
  },
  {
   "cell_type": "markdown",
   "metadata": {},
   "source": []
  },
  {
   "cell_type": "code",
   "execution_count": 24,
   "metadata": {},
   "outputs": [
    {
     "name": "stdout",
     "output_type": "stream",
     "text": [
      "<class 'int'>\n",
      "<class 'str'>\n"
     ]
    }
   ],
   "source": [
    "my_var = 10\n",
    "print(type(my_var))\n",
    "my_var = \"Test String\"\n",
    "print(type(my_var))"
   ]
  },
  {
   "cell_type": "markdown",
   "metadata": {},
   "source": [
    "## Python Operators and Expressions\n",
    "### Arithmetic Operators"
   ]
  },
  {
   "cell_type": "code",
   "execution_count": 30,
   "metadata": {},
   "outputs": [
    {
     "name": "stdout",
     "output_type": "stream",
     "text": [
      "Addition 15\n",
      "Subtraction: -5\n",
      "Multiplication:  50\n",
      "Division: 0.5\n",
      "Modulus: 2\n",
      "Exponent: 1000\n"
     ]
    }
   ],
   "source": [
    "# Addition +\n",
    "print(\"Addition\", 5 + 10)\n",
    "# Subtraction -\n",
    "print(\"Subtraction:\", 5 - 10)\n",
    "# Multiplication *\n",
    "print(\"Multiplication: \", 5 * 10)\n",
    "# Division /\n",
    "print(\"Division:\", 5 / 10)\n",
    "# Modulus % gives a remainder\n",
    "print(\"Modulus:\", 23 % 7)\n",
    "# Exponent **\n",
    "print(\"Exponent:\", 10 ** 3) #10^3"
   ]
  },
  {
   "cell_type": "markdown",
   "metadata": {},
   "source": []
  },
  {
   "cell_type": "markdown",
   "metadata": {},
   "source": [
    "### Comparison Operators"
   ]
  },
  {
   "cell_type": "code",
   "execution_count": 33,
   "metadata": {},
   "outputs": [
    {
     "name": "stdout",
     "output_type": "stream",
     "text": [
      "False\n",
      "True\n",
      "True\n",
      "False\n",
      "True\n",
      "False\n"
     ]
    }
   ],
   "source": [
    "x = 10\n",
    "y = 5\n",
    "\n",
    "# Equal to ==\n",
    "result = x == y\n",
    "print(result)\n",
    "\n",
    "# Not equal to !=\n",
    "result = x != y\n",
    "print(result)\n",
    "\n",
    "# Greater than >\n",
    "result = x > y\n",
    "print(result)\n",
    "\n",
    "# Less than <\n",
    "result = x < y\n",
    "print(result)\n",
    "\n",
    "# Greater than or equal to >=\n",
    "result = x >= y\n",
    "print(result)\n",
    "\n",
    "# Less than or equal to <=\n",
    "result = x <= y\n",
    "print(result)"
   ]
  },
  {
   "cell_type": "markdown",
   "metadata": {},
   "source": [
    "### Logical Operators:"
   ]
  },
  {
   "cell_type": "code",
   "execution_count": 38,
   "metadata": {},
   "outputs": [
    {
     "name": "stdout",
     "output_type": "stream",
     "text": [
      "True\n",
      "True\n",
      "False\n"
     ]
    }
   ],
   "source": [
    "x = 10\n",
    "y = 5\n",
    "\n",
    "# AND\n",
    "logical = (x>5 ) and (y<10)\n",
    "print(logical)\n",
    "\n",
    "# OR\n",
    "logical = (x>5 ) or (y<3)\n",
    "print(logical)\n",
    "\n",
    "# NOT\n",
    "logical = not(x==10 )\n",
    "print(logical)"
   ]
  },
  {
   "cell_type": "markdown",
   "metadata": {},
   "source": [
    "## Assignment Operators"
   ]
  },
  {
   "cell_type": "code",
   "execution_count": 39,
   "metadata": {},
   "outputs": [
    {
     "name": "stdout",
     "output_type": "stream",
     "text": [
      "15\n",
      "10\n",
      "50\n",
      "10.0\n"
     ]
    }
   ],
   "source": [
    "x = 10\n",
    "# Addition Assignment\n",
    "# x = x + 5\n",
    "x += 5\n",
    "print(x)\n",
    "#Subtraction\n",
    "x -= 5\n",
    "print(x)\n",
    "# Multiplication\n",
    "x *= 5\n",
    "print(x)\n",
    "# Division\n",
    "x /= 5\n",
    "print(x)"
   ]
  },
  {
   "cell_type": "markdown",
   "metadata": {},
   "source": [
    "### Type Coercion or Type Conversion"
   ]
  },
  {
   "cell_type": "code",
   "execution_count": 40,
   "metadata": {},
   "outputs": [
    {
     "name": "stdout",
     "output_type": "stream",
     "text": [
      "<class 'int'>\n",
      "10.0\n",
      "<class 'float'>\n",
      "<class 'float'>\n",
      "10.23\n",
      "<class 'str'>\n",
      "10.23\n",
      "10\n"
     ]
    }
   ],
   "source": [
    "x = 10 #int\n",
    "print(type(x))\n",
    "#converting to float\n",
    "x = float(x)\n",
    "print(x)\n",
    "print(type(x))\n",
    "# convert to string\n",
    "x = 10.23\n",
    "print(type(x))\n",
    "x = str(x)\n",
    "print(x)\n",
    "print(type(x))\n",
    "print(x)\n",
    "x = 10.45\n",
    "x = int(x)\n",
    "print(x)\n"
   ]
  },
  {
   "cell_type": "markdown",
   "metadata": {},
   "source": [
    "## String Methods"
   ]
  },
  {
   "cell_type": "code",
   "execution_count": 41,
   "metadata": {},
   "outputs": [
    {
     "name": "stdout",
     "output_type": "stream",
     "text": [
      "Hello Python!\n",
      "13\n",
      "H\n",
      "Hello\n",
      "siht\n",
      "!gnirts siht esreveR\n"
     ]
    }
   ],
   "source": [
    "my_string = \"Hello Python!\"\n",
    "print(my_string)\n",
    "print(len(my_string))\n",
    "first_letter = my_string[0]\n",
    "print(first_letter)\n",
    "\n",
    "# slice\n",
    "# [starting index: ending index (not included in string)]\n",
    "slice_string = my_string[0:5]\n",
    "print(slice_string)\n",
    "\n",
    "my_text = \"Reverse this string!\"\n",
    "# starting point : ending point : traversal method\n",
    "reverse_this = my_text[11:7:-1]\n",
    "print(reverse_this)\n",
    "reversed_string = my_text[::-1]\n",
    "print(reversed_string)"
   ]
  },
  {
   "cell_type": "code",
   "execution_count": 42,
   "metadata": {},
   "outputs": [
    {
     "name": "stdout",
     "output_type": "stream",
     "text": [
      "Data analytics course\n",
      "Data Analytics Course\n",
      "True\n",
      "False\n",
      "5\n",
      "-1\n",
      "information analytics course\n",
      "Information Analytics Course\n",
      "DATA ANALYTICS COURSE\n",
      "data analytics course\n"
     ]
    }
   ],
   "source": [
    "sample_string = \"data analytics course\"\n",
    "\n",
    "# capitalize\n",
    "print(sample_string.capitalize())\n",
    "\n",
    "# title\n",
    "print(sample_string.title())\n",
    "\n",
    "# in\n",
    "print(\"data\" in sample_string)\n",
    "print(\"science\" in sample_string)\n",
    "\n",
    "# find - will give the starting index\n",
    "print(sample_string.find(\"analytics\"))\n",
    "print(sample_string.find(\"science\"))\n",
    "\n",
    "#replace\n",
    "print(sample_string.replace(\"data\", \"information\"))\n",
    "\n",
    "# combine\n",
    "print(sample_string.replace(\"data\", \"information\").title())\n",
    "\n",
    "# lowercase and uppercase\n",
    "print(sample_string.upper())\n",
    "print(sample_string.lower())"
   ]
  },
  {
   "cell_type": "code",
   "execution_count": 43,
   "metadata": {},
   "outputs": [
    {
     "name": "stdout",
     "output_type": "stream",
     "text": [
      "2\n",
      "Data Analyst - Junior\n",
      "['Python', 'is', 'fun', 'to', 'learn']\n"
     ]
    }
   ],
   "source": [
    "text = \"the quick brown fox jumps over the lazy dog\"\n",
    "# count\n",
    "print(text.count(\"the\"))\n",
    "# strip\n",
    "messy_string = \"        Data Analyst - Junior        \"\n",
    "print(messy_string.strip())\n",
    "# split\n",
    "sentence = \"Python is fun to learn\"\n",
    "words = sentence.split()\n",
    "print(words)"
   ]
  },
  {
   "cell_type": "code",
   "execution_count": 44,
   "metadata": {},
   "outputs": [
    {
     "name": "stdout",
     "output_type": "stream",
     "text": [
      "hello world\n"
     ]
    }
   ],
   "source": [
    "# If you want to remove duplicated spaces:\n",
    "print(\" \".join(\"  hello    world  \".split()))\n",
    "# 'hello world'"
   ]
  },
  {
   "cell_type": "markdown",
   "metadata": {},
   "source": [
    "**Concatenation, f-strings**"
   ]
  },
  {
   "cell_type": "code",
   "execution_count": 45,
   "metadata": {},
   "outputs": [
    {
     "name": "stdout",
     "output_type": "stream",
     "text": [
      "John Doe\n",
      "Hello, my name is John Doe\n"
     ]
    }
   ],
   "source": [
    "first_name = \"John\"\n",
    "last_name = \"Doe\"\n",
    "\n",
    "# Concatenation\n",
    "full_name = first_name + \" \" + last_name\n",
    "print(full_name)\n",
    "\n",
    "# f-strings\n",
    "print(f\"Hello, my name is {first_name} {last_name}\")"
   ]
  },
  {
   "cell_type": "markdown",
   "metadata": {},
   "source": [
    "## List Methods"
   ]
  },
  {
   "cell_type": "code",
   "execution_count": 46,
   "metadata": {},
   "outputs": [
    {
     "name": "stdout",
     "output_type": "stream",
     "text": [
      "['Python', 'Java', 'C++']\n",
      "['Python', 'Java', 'C++', 'PHP']\n",
      "['Python', 'Java', 'Ruby', 'C++', 'PHP']\n",
      "['Python', 'Java', 'Ruby', 'C++']\n",
      "['Python', 'Ruby', 'C++']\n",
      "['Python', 'C++']\n"
     ]
    }
   ],
   "source": [
    "# create list\n",
    "my_list = [\"Python\", \"Java\", \"C++\"]\n",
    "print(my_list)\n",
    "\n",
    "# append - add new item\n",
    "my_list.append(\"PHP\")\n",
    "print(my_list)\n",
    "\n",
    "# insert\n",
    "my_list.insert(2, \"Ruby\")\n",
    "print(my_list)\n",
    "\n",
    "# remove - pop\n",
    "my_list.pop()\n",
    "print(my_list)\n",
    "\n",
    "# remove specific value\n",
    "my_list.remove(\"Java\")\n",
    "print(my_list)\n",
    "\n",
    "# remove by index\n",
    "del my_list[1]\n",
    "print(my_list)"
   ]
  },
  {
   "cell_type": "code",
   "execution_count": 47,
   "metadata": {},
   "outputs": [
    {
     "name": "stdout",
     "output_type": "stream",
     "text": [
      "[1, 2, 3, 'a', 'b', True]\n",
      "[1, 2, 3, 'a', 'b', True]\n"
     ]
    }
   ],
   "source": [
    "# list slicing\n",
    "list_data = [1, 2, 3, 4, 5]\n",
    "\n",
    "# starting point : end point : traversal\n",
    "list_data[3:]\n",
    "list_data[3::-1]\n",
    "\n",
    "#list extending\n",
    "list_a = [1, 2, 3]\n",
    "list_b = [\"a\", \"b\", True]\n",
    "\n",
    "#combine lists\n",
    "print(list_a + list_b)\n",
    "\n",
    "# extend\n",
    "list_a.extend(list_b)\n",
    "print(list_a)"
   ]
  },
  {
   "cell_type": "code",
   "execution_count": 48,
   "metadata": {},
   "outputs": [
    {
     "name": "stdout",
     "output_type": "stream",
     "text": [
      "[1, 3, 15, 40, 100]\n",
      "[100, 40, 15, 3, 1]\n",
      "['Al', 'Andy', 'Celine', 'Shannon']\n"
     ]
    }
   ],
   "source": [
    "# sort\n",
    "list_data = [100, 3, 1, 40, 15]\n",
    "list_data.sort()\n",
    "print(list_data)\n",
    "\n",
    "# Descending\n",
    "list_data.sort(reverse=True)\n",
    "print(list_data)\n",
    "\n",
    "list_names = [\"Andy\", \"Al\", \"Shannon\", \"Celine\"]\n",
    "list_names.sort()\n",
    "print(list_names)"
   ]
  },
  {
   "cell_type": "markdown",
   "metadata": {},
   "source": [
    "## Tuple Methods"
   ]
  },
  {
   "cell_type": "code",
   "execution_count": 49,
   "metadata": {},
   "outputs": [
    {
     "name": "stdout",
     "output_type": "stream",
     "text": [
      "3\n",
      "4 2\n",
      "(1, 2, 3, 4)\n",
      "(1, 2, 1, 2, 1, 2)\n",
      "([1, 2], [10, 4], [5, 6])\n"
     ]
    }
   ],
   "source": [
    "# create a tuple\n",
    "tuple_data = (1, 2, 3, 4, 5)\n",
    "print(tuple_data[2])\n",
    "nested_list_tuple = ([1, 2], [3, 4], [5, 6])\n",
    "print(nested_list_tuple[1][1], nested_list_tuple[0][1])\n",
    "\n",
    "# combine tuples\n",
    "tuple_combine = (1, 2) + (3, 4)\n",
    "print(tuple_combine)\n",
    "\n",
    "# duplicating tuples\n",
    "tuple_duplicate = (1, 2) * 3\n",
    "print(tuple_duplicate)\n",
    "nested_list_tuple = ([1, 2], [3, 4], [5, 6])\n",
    "nested_list_tuple[1][0] = 10\n",
    "print(nested_list_tuple)"
   ]
  },
  {
   "cell_type": "markdown",
   "metadata": {},
   "source": [
    "## Dictionary Methods"
   ]
  },
  {
   "cell_type": "code",
   "execution_count": 50,
   "metadata": {},
   "outputs": [
    {
     "name": "stdout",
     "output_type": "stream",
     "text": [
      "John\n",
      "USA\n",
      "{'name': 'John', 'country': 'USA'}\n",
      "dict_keys(['name', 'country'])\n",
      "dict_values(['John', 'USA'])\n",
      "dict_items([('name', 'John'), ('country', 'USA')])\n"
     ]
    }
   ],
   "source": [
    "dict_data = {\n",
    " \"name\": \"John\",\n",
    " \"age\": 20,\n",
    " \"country\": \"USA\"\n",
    "}\n",
    "print(dict_data[\"name\"])\n",
    "\n",
    "# get\n",
    "print(dict_data.get(\"country\"))\n",
    "\n",
    "# remove key-value pairs\n",
    "del dict_data[\"age\"]\n",
    "print(dict_data)\n",
    "\n",
    "# List keys of a dictionary - keys\n",
    "print(dict_data.keys())\n",
    "\n",
    "# List values of a dictionary - values\n",
    "print(dict_data.values())\n",
    "\n",
    "# Get key-value pairs - items\n",
    "print(dict_data.items())"
   ]
  },
  {
   "cell_type": "code",
   "execution_count": 51,
   "metadata": {},
   "outputs": [
    {
     "name": "stdout",
     "output_type": "stream",
     "text": [
      "{'a': 1, 'b': 2}\n",
      "{'b': 200, 'c': 3}\n",
      "{'a': 1, 'b': 200, 'c': 3}\n"
     ]
    }
   ],
   "source": [
    "dict_data1 = {\"a\": 1, \"b\": 2}\n",
    "dict_data2 = {\"b\": 200, \"c\": 3}\n",
    "print(dict_data1)\n",
    "print(dict_data2)\n",
    "\n",
    "# update - update/merge\n",
    "dict_data1.update(dict_data2)\n",
    "print(dict_data1)"
   ]
  },
  {
   "cell_type": "markdown",
   "metadata": {},
   "source": [
    "**Getting a Dictionary of Keys and Default Values**"
   ]
  },
  {
   "cell_type": "code",
   "execution_count": 52,
   "metadata": {},
   "outputs": [
    {
     "name": "stdout",
     "output_type": "stream",
     "text": [
      "{'a': 0, 'b': 0, 'c': 0}\n",
      "{'a': 1, 'b': 0, 'c': 0}\n"
     ]
    }
   ],
   "source": [
    "keys = [\"a\", \"b\", \"c\"]\n",
    "default_values = 0\n",
    "dict_data3 = dict.fromkeys(keys, default_values)\n",
    "print(dict_data3)\n",
    "\n",
    "# setting a new value for keys\n",
    "dict_data3[\"a\"] = 1\n",
    "print(dict_data3)"
   ]
  },
  {
   "cell_type": "markdown",
   "metadata": {},
   "source": [
    "# Control Flows and Statements"
   ]
  },
  {
   "cell_type": "markdown",
   "metadata": {},
   "source": [
    "## Conditional Statements\n",
    "\n",
    "### if / elif / else\n",
    "\n",
    "### match / case"
   ]
  },
  {
   "cell_type": "code",
   "execution_count": 53,
   "metadata": {},
   "outputs": [
    {
     "name": "stdout",
     "output_type": "stream",
     "text": [
      "It's not that hot.\n"
     ]
    }
   ],
   "source": [
    "# if / elif / else\n",
    "temperature = 29\n",
    "\n",
    "if temperature >= 40:\n",
    "    print(\"It's pretty hot.\")\n",
    "elif temperature >= 30:\n",
    "    print(\"It's not as hot as before.\")\n",
    "elif temperature >= 25:\n",
    "    print(\"It's not that hot.\")\n",
    "else:\n",
    "    print(\"Wow, it's not hot.\")"
   ]
  },
  {
   "cell_type": "code",
   "execution_count": 54,
   "metadata": {},
   "outputs": [
    {
     "name": "stdout",
     "output_type": "stream",
     "text": [
      "It's a regular day.\n"
     ]
    }
   ],
   "source": [
    "# match / case\n",
    "day = \"Wednesday\"\n",
    "\n",
    "match day:\n",
    "    case \"Monday\":\n",
    "        print(\"It's the start of the week.\")\n",
    "    case \"Friday\":\n",
    "        print(\"It's the weekend!\")\n",
    "    case _:\n",
    "        print(\"It's a regular day.\")"
   ]
  },
  {
   "cell_type": "code",
   "execution_count": 55,
   "metadata": {},
   "outputs": [
    {
     "name": "stdout",
     "output_type": "stream",
     "text": [
      "0\n",
      "1\n",
      "2\n",
      "While loop is done!\n"
     ]
    }
   ],
   "source": [
    "# while\n",
    "count = 0\n",
    "\n",
    "while (count < 3):\n",
    "    print(count)\n",
    "    count += 1\n",
    "else:\n",
    "    print(\"While loop is done!\")"
   ]
  },
  {
   "cell_type": "code",
   "execution_count": 56,
   "metadata": {},
   "outputs": [
    {
     "name": "stdout",
     "output_type": "stream",
     "text": [
      "0\n",
      "1\n",
      "2\n",
      "3\n",
      "4\n",
      "5\n",
      "6\n",
      "7\n",
      "8\n",
      "9\n"
     ]
    }
   ],
   "source": [
    "# for\n",
    "\n",
    "# range (number of times to repeat statement)\n",
    "for i in range(10):\n",
    "    print(i)"
   ]
  },
  {
   "cell_type": "code",
   "execution_count": 57,
   "metadata": {},
   "outputs": [
    {
     "name": "stdout",
     "output_type": "stream",
     "text": [
      "0\n",
      "1\n",
      "2\n",
      "3\n",
      "4\n",
      "5\n",
      "6\n",
      "7\n",
      "8\n",
      "9\n",
      "-6\n",
      "-5\n",
      "-4\n",
      "-3\n",
      "-2\n",
      "-1\n",
      "0\n",
      "1\n",
      "2\n",
      "3\n",
      "4\n",
      "5\n",
      "6\n",
      "7\n"
     ]
    }
   ],
   "source": [
    "# range (number of times to repeat statement)\n",
    "for i in range(10):\n",
    "    print(i)\n",
    "\n",
    "# range (starting value, ending value)\n",
    "for i in range(-6, 8):\n",
    "    print(i)"
   ]
  },
  {
   "cell_type": "code",
   "execution_count": 58,
   "metadata": {},
   "outputs": [
    {
     "name": "stdout",
     "output_type": "stream",
     "text": [
      "List data:  5\n",
      "List data:  3\n",
      "List data:  6\n",
      "List data:  8\n",
      "List data:  1\n"
     ]
    }
   ],
   "source": [
    "# iterable values (lists, tuples, strings, etc.)\n",
    "\n",
    "# loop through a list\n",
    "list_data = [5, 3, 6, 8, 1]\n",
    "for i in list_data:\n",
    "    print(\"List data: \", i)"
   ]
  },
  {
   "cell_type": "code",
   "execution_count": 62,
   "metadata": {},
   "outputs": [
    {
     "name": "stdout",
     "output_type": "stream",
     "text": [
      "5 3 6 8 1 \n"
     ]
    }
   ],
   "source": [
    "# printing our loop in one value\n",
    "list_str = \"\"\n",
    "for i in list_data:\n",
    "    list_str += f\"{i} \"\n",
    "\n",
    "print(list_str)"
   ]
  },
  {
   "cell_type": "code",
   "execution_count": 60,
   "metadata": {},
   "outputs": [
    {
     "name": "stdout",
     "output_type": "stream",
     "text": [
      "t\n",
      "e\n",
      "s\n",
      "t\n",
      "i\n",
      "n\n",
      "g\n",
      " \n",
      "s\n",
      "t\n",
      "r\n",
      "i\n",
      "n\n",
      "g\n"
     ]
    }
   ],
   "source": [
    "# looping through strings\n",
    "str3 = \"testing string\"\n",
    "for i in str3:\n",
    "    print(i)"
   ]
  },
  {
   "cell_type": "code",
   "execution_count": 63,
   "metadata": {},
   "outputs": [
    {
     "name": "stdout",
     "output_type": "stream",
     "text": [
      "tuple data:  5\n",
      "tuple data:  3\n",
      "tuple data:  6\n",
      "tuple data:  8\n",
      "tuple data:  1\n"
     ]
    }
   ],
   "source": [
    "# loop through a tuple\n",
    "tuple_data = (5, 3, 6, 8, 1)\n",
    "for i in tuple_data:\n",
    "    print(\"tuple data: \", i)"
   ]
  },
  {
   "cell_type": "markdown",
   "metadata": {},
   "source": [
    "## Python Functions\n",
    "\n",
    "- Groups code together into a block.\n",
    "- Allows us to call and reuse code efficently.\n",
    "- It could take in information (parameters) and return information (return statement) to the caller."
   ]
  },
  {
   "cell_type": "code",
   "execution_count": 64,
   "metadata": {},
   "outputs": [
    {
     "name": "stdout",
     "output_type": "stream",
     "text": [
      "Hello, World!\n",
      "Hello, World!\n",
      "Hello, World!\n",
      "Hello, World!\n"
     ]
    }
   ],
   "source": [
    "# no parameters\n",
    "def hello():\n",
    "    print(\"Hello, World!\")\n",
    "\n",
    "# calling a function\n",
    "hello()\n",
    "hello()\n",
    "hello()\n",
    "hello()"
   ]
  },
  {
   "cell_type": "code",
   "execution_count": 65,
   "metadata": {},
   "outputs": [
    {
     "name": "stdout",
     "output_type": "stream",
     "text": [
      "Hello, Ferds.\n"
     ]
    }
   ],
   "source": [
    "# parameters and arguments\n",
    "\n",
    "# parameter = custom value used in a function\n",
    "def name_function(fname):\n",
    "    print(f\"Hello, {fname}.\")\n",
    "\n",
    "# argument = custom value passed to a function\n",
    "name_function(\"Ferds\")\n"
   ]
  },
  {
   "cell_type": "code",
   "execution_count": 1,
   "metadata": {},
   "outputs": [
    {
     "data": {
      "text/plain": [
       "{1: 1, 2: 4, 3: 9, 4: 16, 5: 25}"
      ]
     },
     "execution_count": 1,
     "metadata": {},
     "output_type": "execute_result"
    }
   ],
   "source": [
    "numbers = [1, 2, 3, 4, 5]\n",
    "# numbers_dict = {}\n",
    "\n",
    "# for i in numbers:\n",
    "#     numbers_dict[i] = i ** 2\n",
    "\n",
    "# numbers_dict\n",
    "\n",
    "# DICTIONARY COMPREHENSION\n",
    "{i: i**2 for i in numbers}"
   ]
  },
  {
   "cell_type": "code",
   "execution_count": null,
   "metadata": {},
   "outputs": [],
   "source": []
  }
 ],
 "metadata": {
  "kernelspec": {
   "display_name": "venv",
   "language": "python",
   "name": "python3"
  },
  "language_info": {
   "codemirror_mode": {
    "name": "ipython",
    "version": 3
   },
   "file_extension": ".py",
   "mimetype": "text/x-python",
   "name": "python",
   "nbconvert_exporter": "python",
   "pygments_lexer": "ipython3",
   "version": "3.12.4"
  }
 },
 "nbformat": 4,
 "nbformat_minor": 2
}
